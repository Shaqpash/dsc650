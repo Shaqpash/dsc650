{
 "cells": [
  {
   "cell_type": "code",
   "execution_count": 2,
   "id": "af7206d9-f55b-4855-af9d-41226cbf540a",
   "metadata": {
    "tags": []
   },
   "outputs": [],
   "source": [
    "#ShaquielPashtunyar\n",
    "#Assignment 8\n",
    "#Consumer"
   ]
  },
  {
   "cell_type": "code",
   "execution_count": 3,
   "id": "3b2b04b0-93d2-4494-a7dc-daf8f2e2be11",
   "metadata": {
    "tags": []
   },
   "outputs": [],
   "source": [
    "import json\n",
    "import uuid\n",
    "from kafka import KafkaProducer, KafkaAdminClient\n",
    "from kafka.admin.new_topic import NewTopic\n",
    "from kafka.errors import TopicAlreadyExistsError\n",
    "from kafka import KafkaConsumer"
   ]
  },
  {
   "cell_type": "code",
   "execution_count": 4,
   "id": "5460a076-3aa5-4b1e-b560-794349ec16ce",
   "metadata": {
    "tags": []
   },
   "outputs": [
    {
     "data": {
      "text/plain": [
       "{'bootstrap_servers': ['kafka.kafka.svc.cluster.local:9092'],\n",
       " 'first_name': 'Shaq',\n",
       " 'last_name': 'Pash',\n",
       " 'client_id': 'PashShaq',\n",
       " 'topic_prefix': 'PashShaq'}"
      ]
     },
     "execution_count": 4,
     "metadata": {},
     "output_type": "execute_result"
    }
   ],
   "source": [
    "config = dict(\n",
    "bootstrap_servers=['kafka.kafka.svc.cluster.local:9092'],\n",
    "first_name='Shaq',\n",
    "last_name='Pash'\n",
    ")\n",
    "config['client_id'] = '{}{}'.format(\n",
    "config['last_name'],\n",
    "config['first_name']\n",
    ")\n",
    "config['topic_prefix'] = '{}{}'.format(\n",
    "config['last_name'],\n",
    "config['first_name']\n",
    ")\n",
    "config"
   ]
  },
  {
   "cell_type": "code",
   "execution_count": 5,
   "id": "124bed0c-677d-4674-aaf4-ac44942a0d69",
   "metadata": {
    "tags": []
   },
   "outputs": [],
   "source": [
    "general_consumer = KafkaConsumer(\n",
    "bootstrap_servers=config['bootstrap_servers']\n",
    ")"
   ]
  },
  {
   "cell_type": "code",
   "execution_count": 6,
   "id": "b09fc3d9-f736-4bd0-a6c7-8624ec70973e",
   "metadata": {
    "tags": []
   },
   "outputs": [
    {
     "data": {
      "text/plain": [
       "{'AvinazGabriel-accelerations',\n",
       " 'AvinazGabriel-locations',\n",
       " 'ClaytonDaniel-accelerations',\n",
       " 'ClaytonDaniel-locations',\n",
       " 'CosentiniVictor-accelerations',\n",
       " 'CosentiniVictor-locations',\n",
       " 'DoeJohn-accelerations',\n",
       " 'DoeJohn-locations',\n",
       " 'GreenertJosh-accelerations',\n",
       " 'GreenertJosh-locations',\n",
       " 'HanPhil-accelerations',\n",
       " 'HanPhil-locations',\n",
       " 'MeyerJake-acceleration',\n",
       " 'MeyerJake-accelerations',\n",
       " 'MeyerJake-locations',\n",
       " 'OehlerAngie-accelerations',\n",
       " 'OehlerAngie-locations',\n",
       " 'Oehler_Angie-locations',\n",
       " 'OmprakashSantosh-accelerations',\n",
       " 'OmprakashSantosh-locations',\n",
       " 'PashShaq-accelerations',\n",
       " 'PashShaq-locations',\n",
       " 'PatelMithil-accelerations',\n",
       " 'PatelMithil-locations',\n",
       " 'ShermanMilan-accelerations',\n",
       " 'ShermanMilan-locations',\n",
       " 'TabbalatAbed-accelerations',\n",
       " 'TabbalatAbed-locations',\n",
       " 'TabbalatAbed-simple',\n",
       " 'VayuvegulaSomaShekar-accelerations',\n",
       " 'VayuvegulaSomaShekar-locations',\n",
       " 'WeatherfordPatrick-accelerations',\n",
       " 'WeatherfordPatrick-locations'}"
      ]
     },
     "execution_count": 6,
     "metadata": {},
     "output_type": "execute_result"
    }
   ],
   "source": [
    "general_consumer.topics()"
   ]
  },
  {
   "cell_type": "code",
   "execution_count": 7,
   "id": "1c428711-4909-4aa6-a6c2-022935b13f58",
   "metadata": {
    "tags": []
   },
   "outputs": [],
   "source": [
    "general_consumer.close()"
   ]
  },
  {
   "cell_type": "code",
   "execution_count": 8,
   "id": "03c921de-8e0c-4753-bf4c-61fd82ea2cd5",
   "metadata": {
    "tags": []
   },
   "outputs": [],
   "source": [
    "def create_kafka_consumer(topics, config=config):\n",
    "    bootstrap_servers = config['bootstrap_servers']\n",
    "    client_id = config['client_id']\n",
    "    topic_prefix = config['topic_prefix']\n",
    "    topic_list = ['{}-{}'.format(topic_prefix, topic) for topic in topics]\n",
    "    return KafkaConsumer(\n",
    "        *topic_list,\n",
    "        client_id=client_id,\n",
    "        bootstrap_servers=bootstrap_servers,\n",
    "        auto_offset_reset='earliest',\n",
    "        enable_auto_commit=False,\n",
    "        value_deserializer=lambda x: json.loads(x)\n",
    "    )\n",
    "consumer = create_kafka_consumer(['locations', 'accelerations'])"
   ]
  },
  {
   "cell_type": "code",
   "execution_count": 9,
   "id": "6245cf02-2af7-41a8-984c-9e19f7d867f7",
   "metadata": {
    "tags": []
   },
   "outputs": [
    {
     "data": {
      "text/plain": [
       "{'PashShaq-accelerations', 'PashShaq-locations'}"
      ]
     },
     "execution_count": 9,
     "metadata": {},
     "output_type": "execute_result"
    }
   ],
   "source": [
    "consumer.subscription()"
   ]
  },
  {
   "cell_type": "code",
   "execution_count": null,
   "id": "d9253a86-a70b-408f-b3f5-1fa7ab755657",
   "metadata": {
    "tags": []
   },
   "outputs": [],
   "source": [
    "def print_messages(consumer=consumer):\n",
    "    try:\n",
    "        for message in consumer:\n",
    "            msg_metadata = 'Message metadata: {}:{}:{}'.format(\n",
    "                message.topic, message.partition, message.offset\n",
    "            )\n",
    "            if message.key is not None:\n",
    "                msg_key = message.key.decode('utf-8')\n",
    "            else:\n",
    "                msg_key = ''\n",
    "            msg_value = json.dumps(message.value, indent=2)\n",
    "            msg_value = '\\n'.join([' {}'.format(value) for value in msg_value.split('\\n')])\n",
    "            \n",
    "        print('Message metadata:')\n",
    "        print(' Topic: {}'.format(message.topic))\n",
    "        print(' Partition: {}'.format(message.partition))\n",
    "        print(' Offset: {}'.format(message.offset))\n",
    "        print('Message Key: {}'.format(msg_key))\n",
    "        print('Message Value:')\n",
    "        print(msg_value)\n",
    "        print()\n",
    "    except KeyboardInterrupt:\n",
    "        print(\"STOPPING MESSAGE CONSUMER\")\n",
    "print_messages()"
   ]
  },
  {
   "cell_type": "code",
   "execution_count": 10,
   "id": "cc34f4ca-96a7-456b-867c-7acbb2ca6c36",
   "metadata": {
    "tags": []
   },
   "outputs": [],
   "source": [
    "consumer.close()"
   ]
  },
  {
   "cell_type": "code",
   "execution_count": null,
   "id": "eaa9f0f6-9125-4ff6-81e4-bcde76d8fd98",
   "metadata": {},
   "outputs": [],
   "source": []
  }
 ],
 "metadata": {
  "kernelspec": {
   "display_name": "Python 3 (ipykernel)",
   "language": "python",
   "name": "python3"
  },
  "language_info": {
   "codemirror_mode": {
    "name": "ipython",
    "version": 3
   },
   "file_extension": ".py",
   "mimetype": "text/x-python",
   "name": "python",
   "nbconvert_exporter": "python",
   "pygments_lexer": "ipython3",
   "version": "3.10.10"
  }
 },
 "nbformat": 4,
 "nbformat_minor": 5
}
