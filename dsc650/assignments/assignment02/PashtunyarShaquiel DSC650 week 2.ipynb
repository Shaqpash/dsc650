{
 "cells": [
  {
   "cell_type": "code",
   "execution_count": 19,
   "id": "eced2d13-df82-4ccd-a531-9573ea2373fe",
   "metadata": {},
   "outputs": [],
   "source": [
    "#shaquiel Pashtunyar \n",
    "#DSC650 Big Data\n",
    "#week 2 SQL database building\n",
    "#Notes"
   ]
  },
  {
   "cell_type": "code",
   "execution_count": 20,
   "id": "249e1378-1ab5-4f21-bc4a-42820a1e6919",
   "metadata": {},
   "outputs": [],
   "source": [
    "import json\n",
    "from pathlib import Path\n",
    "import os\n",
    "\n",
    "import pandas as pd\n",
    "import s3fs"
   ]
  },
  {
   "cell_type": "code",
   "execution_count": 21,
   "id": "c55fa3ed-94cc-4f2c-82df-5c3f64ccab38",
   "metadata": {},
   "outputs": [],
   "source": [
    "df = pd.read_csv(r'C:\\Users\\spashtunyar\\Documents\\School\\dsc650\\data\\external\\tidynomicon\\site.csv')"
   ]
  },
  {
   "cell_type": "code",
   "execution_count": 22,
   "id": "4d30d486-f027-489a-8acc-b1d4cb75fed3",
   "metadata": {},
   "outputs": [],
   "source": [
    "current_dir = Path(os.getcwd()).absolute()"
   ]
  },
  {
   "cell_type": "code",
   "execution_count": 23,
   "id": "210664a1-e99e-4408-bac6-248bdf55af65",
   "metadata": {},
   "outputs": [
    {
     "data": {
      "text/plain": [
       "WindowsPath('C:/Users/spashtunyar/Documents/School/dsc650/dsc650/assignments/assignment02')"
      ]
     },
     "execution_count": 23,
     "metadata": {},
     "output_type": "execute_result"
    }
   ],
   "source": [
    "Path(os.getcwd()).absolute()"
   ]
  },
  {
   "cell_type": "code",
   "execution_count": 24,
   "id": "a34f090a-9389-4ed1-9745-f77b97b2336f",
   "metadata": {},
   "outputs": [
    {
     "name": "stdout",
     "output_type": "stream",
     "text": [
      "Requirement already satisfied: TinyDB in c:\\users\\spashtunyar\\anaconda3\\lib\\site-packages (4.7.1)\n",
      "Note: you may need to restart the kernel to use updated packages.\n"
     ]
    }
   ],
   "source": [
    "pip install TinyDB"
   ]
  },
  {
   "cell_type": "code",
   "execution_count": null,
   "id": "d4e1d6cd-fc03-469a-b678-c6ba244795bf",
   "metadata": {},
   "outputs": [],
   "source": []
  }
 ],
 "metadata": {
  "kernelspec": {
   "display_name": "Python 3 (ipykernel)",
   "language": "python",
   "name": "python3"
  },
  "language_info": {
   "codemirror_mode": {
    "name": "ipython",
    "version": 3
   },
   "file_extension": ".py",
   "mimetype": "text/x-python",
   "name": "python",
   "nbconvert_exporter": "python",
   "pygments_lexer": "ipython3",
   "version": "3.9.16"
  }
 },
 "nbformat": 4,
 "nbformat_minor": 5
}
