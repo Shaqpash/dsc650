{
 "cells": [
  {
   "cell_type": "code",
   "execution_count": 1,
   "id": "e50438fe-5328-4074-a77f-6e4445c9beba",
   "metadata": {
    "tags": []
   },
   "outputs": [],
   "source": [
    "#Spashtunyar\n",
    "#DSC650\n",
    "#Assignment 10"
   ]
  },
  {
   "cell_type": "markdown",
   "id": "4bb5e2d8-d3b1-43dd-a080-49de167acc30",
   "metadata": {},
   "source": [
    "# Assignemnt 10.1a"
   ]
  },
  {
   "cell_type": "code",
   "execution_count": 2,
   "id": "43f27f7a-4334-46ce-bec4-03bc80893219",
   "metadata": {
    "tags": []
   },
   "outputs": [],
   "source": [
    "import string"
   ]
  },
  {
   "cell_type": "code",
   "execution_count": 3,
   "id": "99bb46bf-f26c-4725-b003-9e6907076356",
   "metadata": {
    "tags": []
   },
   "outputs": [],
   "source": [
    "#Creating a toeknizer\n",
    "def tokenize(sentence):\n",
    "    # Split the sentence by spaces\n",
    "    words = sentence.split()\n",
    "    # Remove punctuation\n",
    "    table = str.maketrans('', '', string.punctuation)\n",
    "    stripped = [w.translate(table) for w in words]\n",
    "    return stripped"
   ]
  },
  {
   "cell_type": "code",
   "execution_count": 4,
   "id": "00a40974-fd59-4327-822f-45c494af0376",
   "metadata": {
    "tags": []
   },
   "outputs": [
    {
     "name": "stdout",
     "output_type": "stream",
     "text": [
      "<class 'list'>\n",
      "['I', 'need', 'a', 'dummy', 'in', 'order', 'to', 'remove', 'all', 'the', 'text', 'and', '21', 'out', 'of', 'this', 'string']\n"
     ]
    }
   ],
   "source": [
    "sentence = \"I need a dummy, in order to remove all. the text and $#21 out of this string!\"\n",
    "tokens = tokenize(sentence)\n",
    "print(type(tokens))\n",
    "print(tokens)"
   ]
  },
  {
   "cell_type": "markdown",
   "id": "f61bcb47-d14b-4393-94b5-742114f4b2cc",
   "metadata": {},
   "source": [
    "# Assigment 10.1C"
   ]
  },
  {
   "cell_type": "code",
   "execution_count": 5,
   "id": "c9132dd7-00ea-46d6-8373-70e7020475f8",
   "metadata": {
    "tags": []
   },
   "outputs": [],
   "source": [
    "#(what happened to 10 B? no one knows)"
   ]
  },
  {
   "cell_type": "code",
   "execution_count": 6,
   "id": "2ba7e15e-198b-4878-88a6-774a282e6311",
   "metadata": {
    "tags": []
   },
   "outputs": [
    {
     "name": "stderr",
     "output_type": "stream",
     "text": [
      "2023-05-21 03:13:55.429963: I tensorflow/tsl/cuda/cudart_stub.cc:28] Could not find cuda drivers on your machine, GPU will not be used.\n",
      "2023-05-21 03:13:55.599954: I tensorflow/tsl/cuda/cudart_stub.cc:28] Could not find cuda drivers on your machine, GPU will not be used.\n",
      "2023-05-21 03:13:55.602611: I tensorflow/core/platform/cpu_feature_guard.cc:182] This TensorFlow binary is optimized to use available CPU instructions in performance-critical operations.\n",
      "To enable the following instructions: AVX2 AVX512F FMA, in other operations, rebuild TensorFlow with the appropriate compiler flags.\n",
      "2023-05-21 03:13:56.947719: W tensorflow/compiler/tf2tensorrt/utils/py_utils.cc:38] TF-TRT Warning: Could not find TensorRT\n"
     ]
    }
   ],
   "source": [
    "import string\n",
    "from numpy import array\n",
    "from numpy import argmax\n",
    "from keras.utils import to_categorical"
   ]
  },
  {
   "cell_type": "code",
   "execution_count": 7,
   "id": "a7019231-fc3f-46d9-80ef-21470c5c9b55",
   "metadata": {
    "tags": []
   },
   "outputs": [],
   "source": [
    "def onehtencode(data):\n",
    "    data = array(data)\n",
    "    print(\"Received array\")\n",
    "    print(data)\n",
    "    # one hot encode\n",
    "    encoded = to_categorical(data)\n",
    "    return encoded"
   ]
  },
  {
   "cell_type": "code",
   "execution_count": 8,
   "id": "2a72ee00-2879-47dd-b645-3f836f2a72b9",
   "metadata": {
    "tags": []
   },
   "outputs": [
    {
     "name": "stdout",
     "output_type": "stream",
     "text": [
      "Received array\n",
      "[1 3 2 1 9 3 6 1 0 8]\n",
      "One Hot Encoded values\n",
      "[[0. 1. 0. 0. 0. 0. 0. 0. 0. 0.]\n",
      " [0. 0. 0. 1. 0. 0. 0. 0. 0. 0.]\n",
      " [0. 0. 1. 0. 0. 0. 0. 0. 0. 0.]\n",
      " [0. 1. 0. 0. 0. 0. 0. 0. 0. 0.]\n",
      " [0. 0. 0. 0. 0. 0. 0. 0. 0. 1.]\n",
      " [0. 0. 0. 1. 0. 0. 0. 0. 0. 0.]\n",
      " [0. 0. 0. 0. 0. 0. 1. 0. 0. 0.]\n",
      " [0. 1. 0. 0. 0. 0. 0. 0. 0. 0.]\n",
      " [1. 0. 0. 0. 0. 0. 0. 0. 0. 0.]\n",
      " [0. 0. 0. 0. 0. 0. 0. 0. 1. 0.]]\n"
     ]
    }
   ],
   "source": [
    "data = [1, 3, 2, 1, 9, 3, 6, 1, 0, 8]\n",
    "encodedval = onehtencode(data)\n",
    "print(\"One Hot Encoded values\")\n",
    "print(encodedval)"
   ]
  },
  {
   "cell_type": "markdown",
   "id": "584794c8-1f1a-4b30-a673-79cc327159ac",
   "metadata": {
    "tags": []
   },
   "source": [
    "# ASSIGNMENT 10.2"
   ]
  },
  {
   "cell_type": "code",
   "execution_count": 9,
   "id": "26f35cc4-1611-49c7-b433-6457ed66be77",
   "metadata": {
    "tags": []
   },
   "outputs": [],
   "source": [
    "#imports\n",
    "from keras.preprocessing.text import Tokenizer\n",
    "import numpy as np\n",
    "import matplotlib.pyplot as plt\n",
    "from pathlib import Path\n",
    "from keras.models import Sequential\n",
    "from keras.layers import Embedding, Flatten, Dense\n",
    "import os\n",
    "from contextlib import redirect_stdout\n",
    "import time\n",
    "start_time = time.time()"
   ]
  },
  {
   "cell_type": "code",
   "execution_count": 10,
   "id": "19e51964-55ce-48dd-bc96-d3373140a232",
   "metadata": {
    "tags": []
   },
   "outputs": [
    {
     "name": "stdout",
     "output_type": "stream",
     "text": [
      "Requirement already satisfied: pad_sequences in /opt/conda/lib/python3.10/site-packages (0.6.1)\n",
      "Note: you may need to restart the kernel to use updated packages.\n"
     ]
    }
   ],
   "source": [
    "pip install pad_sequences"
   ]
  },
  {
   "cell_type": "code",
   "execution_count": 11,
   "id": "31ef7847-7a1e-4235-a1cd-f2bdaf8679b6",
   "metadata": {
    "tags": []
   },
   "outputs": [],
   "source": [
    "import pad_sequences"
   ]
  },
  {
   "cell_type": "code",
   "execution_count": 20,
   "id": "56b67f1e-082b-4771-982d-bddb5c3e1326",
   "metadata": {
    "tags": []
   },
   "outputs": [
    {
     "name": "stdout",
     "output_type": "stream",
     "text": [
      "Collecting keras_preprocessing\n",
      "  Downloading Keras_Preprocessing-1.1.2-py2.py3-none-any.whl (42 kB)\n",
      "\u001b[2K     \u001b[90m━━━━━━━━━━━━━━━━━━━━━━━━━━━━━━━━━━━━━━━━\u001b[0m \u001b[32m42.6/42.6 kB\u001b[0m \u001b[31m2.8 MB/s\u001b[0m eta \u001b[36m0:00:00\u001b[0m\n",
      "\u001b[?25hRequirement already satisfied: numpy>=1.9.1 in /opt/conda/lib/python3.10/site-packages (from keras_preprocessing) (1.23.5)\n",
      "Requirement already satisfied: six>=1.9.0 in /opt/conda/lib/python3.10/site-packages (from keras_preprocessing) (1.16.0)\n",
      "Installing collected packages: keras_preprocessing\n",
      "Successfully installed keras_preprocessing-1.1.2\n",
      "Note: you may need to restart the kernel to use updated packages.\n"
     ]
    }
   ],
   "source": [
    "pip install keras_preprocessing"
   ]
  },
  {
   "cell_type": "code",
   "execution_count": 21,
   "id": "317ecc6b-0494-471b-955a-c44c2b2fa08a",
   "metadata": {
    "tags": []
   },
   "outputs": [],
   "source": [
    "from keras_preprocessing.sequence import pad_sequences"
   ]
  },
  {
   "cell_type": "code",
   "execution_count": 22,
   "id": "d3fcc290-3d9d-4bc3-9c32-bf3c776da51d",
   "metadata": {
    "tags": []
   },
   "outputs": [],
   "source": [
    "results_dir = Path('results').joinpath('model_1')\n",
    "results_dir.mkdir(parents=True, exist_ok=True)\n",
    "imdb_dir = Path('imdb/aclImdb/')\n",
    "test_dir = os.path.join(imdb_dir, 'test')\n",
    "train_dir = os.path.join(imdb_dir, 'train')"
   ]
  },
  {
   "cell_type": "code",
   "execution_count": 23,
   "id": "93dca952-d749-48c9-9491-6c36cb531ddf",
   "metadata": {
    "tags": []
   },
   "outputs": [],
   "source": [
    "#Set sample sizes and limits\n",
    "training_samples = 200\n",
    "maxlen = 100\n",
    "max_words = 1000\n",
    "embedding_dim = 100\n",
    "\n",
    "training_samples = 200\n",
    "validation_samples = 10000"
   ]
  },
  {
   "cell_type": "code",
   "execution_count": 24,
   "id": "44eadcd3-06e2-4a17-8b9d-2b5ac1cb63ac",
   "metadata": {
    "tags": []
   },
   "outputs": [],
   "source": [
    "# Process the labels of the raw IMDB data\n",
    "import os\n",
    "\n",
    "imdb_dir = '/home/jovyan/dsc650/data/external/imdb/aclImdb'\n",
    "train_dir = os.path.join(imdb_dir, 'train')\n",
    "\n",
    "labels = []\n",
    "texts = []\n",
    "\n",
    "for label_type in ['neg', 'pos']:\n",
    "  dir_name = os.path.join(train_dir, label_type)\n",
    "  for fname in os.listdir(dir_name):\n",
    "    if fname[-4:] == '.txt':\n",
    "      f = open(os.path.join(dir_name, fname))\n",
    "      texts.append(f.read())\n",
    "      f.close()\n",
    "      if label_type == 'neg':\n",
    "        labels.append(0)\n",
    "      else:\n",
    "        labels.append(1)"
   ]
  },
  {
   "cell_type": "code",
   "execution_count": 25,
   "id": "cc7e3d2f-78cb-45b3-90d2-b09b3259fa91",
   "metadata": {
    "tags": []
   },
   "outputs": [
    {
     "name": "stdout",
     "output_type": "stream",
     "text": [
      "Found 88582 unique tokens.\n",
      "Shape of data tensor: (25000, 100)\n",
      "Shape of label tensor: (25000,)\n"
     ]
    }
   ],
   "source": [
    "tokenizer = Tokenizer(num_words=max_words)\n",
    "tokenizer.fit_on_texts(texts)\n",
    "sequences = tokenizer.texts_to_sequences(texts)\n",
    "\n",
    "word_index = tokenizer.word_index\n",
    "print('Found %s unique tokens.' % len(word_index))\n",
    "\n",
    "data = pad_sequences(sequences, maxlen=maxlen)\n",
    "labels = np.asarray(labels)\n",
    "print('Shape of data tensor:', data.shape)\n",
    "print('Shape of label tensor:', labels.shape)"
   ]
  },
  {
   "cell_type": "code",
   "execution_count": 26,
   "id": "74c48f34-6580-4bd2-ad7c-d8279a7c3f85",
   "metadata": {
    "tags": []
   },
   "outputs": [],
   "source": [
    "indices = np.arange(data.shape[0])\n",
    "np.random.shuffle(indices)\n",
    "data = data[indices]\n",
    "labels = labels[indices]\n",
    "\n",
    "x_train = data[:training_samples]\n",
    "y_train = labels[:training_samples]\n",
    "x_val = data[training_samples: training_samples + validation_samples]\n",
    "y_val = labels[training_samples: training_samples + validation_samples]"
   ]
  },
  {
   "cell_type": "code",
   "execution_count": 27,
   "id": "f201df2c-a76a-47c1-9eff-be7b7c61da22",
   "metadata": {
    "tags": []
   },
   "outputs": [],
   "source": [
    "model = Sequential()\n",
    "model.add(Embedding(max_words, embedding_dim, input_length=maxlen))\n",
    "model.add(Flatten())\n",
    "model.add(Dense(32,activation='relu'))\n",
    "model.add(Dense(1, activation='sigmoid'))"
   ]
  },
  {
   "cell_type": "code",
   "execution_count": 28,
   "id": "8a9bfa30-fd0f-4a95-9bea-ffd0a6fd6c15",
   "metadata": {
    "tags": []
   },
   "outputs": [
    {
     "name": "stdout",
     "output_type": "stream",
     "text": [
      "Epoch 1/10\n",
      "7/7 [==============================] - 2s 181ms/step - loss: 0.6954 - acc: 0.5050 - val_loss: 0.6924 - val_acc: 0.5136\n",
      "Epoch 2/10\n",
      "7/7 [==============================] - 1s 152ms/step - loss: 0.5804 - acc: 0.9650 - val_loss: 0.6966 - val_acc: 0.5197\n",
      "Epoch 3/10\n",
      "7/7 [==============================] - 1s 131ms/step - loss: 0.4440 - acc: 0.9650 - val_loss: 0.6979 - val_acc: 0.5238\n",
      "Epoch 4/10\n",
      "7/7 [==============================] - 1s 134ms/step - loss: 0.2831 - acc: 1.0000 - val_loss: 0.6975 - val_acc: 0.5257\n",
      "Epoch 5/10\n",
      "7/7 [==============================] - 1s 125ms/step - loss: 0.1703 - acc: 1.0000 - val_loss: 0.7220 - val_acc: 0.5283\n",
      "Epoch 6/10\n",
      "7/7 [==============================] - 1s 144ms/step - loss: 0.1026 - acc: 1.0000 - val_loss: 0.7118 - val_acc: 0.5300\n",
      "Epoch 7/10\n",
      "7/7 [==============================] - 1s 138ms/step - loss: 0.0621 - acc: 1.0000 - val_loss: 0.7366 - val_acc: 0.5283\n",
      "Epoch 8/10\n",
      "7/7 [==============================] - 1s 144ms/step - loss: 0.0407 - acc: 1.0000 - val_loss: 0.7309 - val_acc: 0.5329\n",
      "Epoch 9/10\n",
      "7/7 [==============================] - 1s 126ms/step - loss: 0.0262 - acc: 1.0000 - val_loss: 0.7415 - val_acc: 0.5348\n",
      "Epoch 10/10\n",
      "7/7 [==============================] - 1s 146ms/step - loss: 0.0182 - acc: 1.0000 - val_loss: 0.7579 - val_acc: 0.5339\n"
     ]
    }
   ],
   "source": [
    "# Save the summary to file\n",
    "summary_file = results_dir.joinpath('Assignment_10.2_ModelSummary.txt')\n",
    "with open(summary_file, 'w') as f:\n",
    "    with redirect_stdout(f):\n",
    "        model.summary()\n",
    "\n",
    "model.compile(optimizer='rmsprop', loss='binary_crossentropy', metrics=['acc'])\n",
    "history=model.fit(x_train, y_train, epochs=10, batch_size=32, validation_data=(x_val, y_val))\n",
    "\n",
    "result_model_file = results_dir.joinpath('pre_trained_glove_model.h5')\n",
    "model.save_weights(result_model_file)"
   ]
  },
  {
   "cell_type": "code",
   "execution_count": 29,
   "id": "65a220a7-8bb3-4d14-afd1-8a6393364f2e",
   "metadata": {
    "tags": []
   },
   "outputs": [
    {
     "data": {
      "image/png": "[encoded data removed]",
      "text/plain": [
       "<Figure size 640x480 with 1 Axes>"
      ]
     },
     "metadata": {},
     "output_type": "display_data"
    },
    {
     "data": {
      "image/png": "[encoded data removed]",
      "text/plain": [
       "<Figure size 640x480 with 1 Axes>"
      ]
     },
     "metadata": {},
     "output_type": "display_data"
    }
   ],
   "source": [
    "# Place plot here\n",
    "acc = history.history['acc']\n",
    "val_acc = history.history['val_acc']\n",
    "loss = history.history['loss']\n",
    "val_loss = history.history['val_loss']\n",
    "\n",
    "epochs = range(1, len(acc) + 1)\n",
    "\n",
    "plt.plot(epochs, acc, 'bo', label='Training acc')\n",
    "plt.plot(epochs, val_acc, 'b', label='Validation acc')\n",
    "plt.title('Training and validation accuracy')\n",
    "plt.legend()\n",
    "plt.figure()\n",
    "plt.plot(epochs, loss, 'bo', label='Training loss')\n",
    "plt.plot(epochs, val_loss, 'b', label='Validation loss')\n",
    "plt.title('Training and validation loss')\n",
    "plt.legend()\n",
    "img_file = results_dir.joinpath('Assignment_10.2_Model Accuracy Validation.png')\n",
    "plt.savefig(img_file)\n",
    "plt.show()"
   ]
  },
  {
   "cell_type": "code",
   "execution_count": 37,
   "id": "01283c65-356e-4618-9fbb-bad5a07fe3c7",
   "metadata": {
    "tags": []
   },
   "outputs": [
    {
     "ename": "RuntimeError",
     "evalue": "resource: Attempting to capture an EagerTensor without building a function.",
     "output_type": "error",
     "traceback": [
      "\u001b[0;31m---------------------------------------------------------------------------\u001b[0m",
      "\u001b[0;31mRuntimeError\u001b[0m                              Traceback (most recent call last)",
      "Cell \u001b[0;32mIn[37], line 25\u001b[0m\n\u001b[1;32m     22\u001b[0m x_test \u001b[38;5;241m=\u001b[39m pad_sequences(sequences, maxlen\u001b[38;5;241m=\u001b[39mmaxlen)\n\u001b[1;32m     23\u001b[0m y_test \u001b[38;5;241m=\u001b[39m np\u001b[38;5;241m.\u001b[39masarray(labels)\n\u001b[0;32m---> 25\u001b[0m \u001b[43mmodel\u001b[49m\u001b[38;5;241;43m.\u001b[39;49m\u001b[43mload_weights\u001b[49m\u001b[43m(\u001b[49m\u001b[43mresult_model_file\u001b[49m\u001b[43m)\u001b[49m\n\u001b[1;32m     26\u001b[0m \u001b[38;5;28meval\u001b[39m \u001b[38;5;241m=\u001b[39m model\u001b[38;5;241m.\u001b[39mevaluate(x_test, y_test)\n\u001b[1;32m     27\u001b[0m \u001b[38;5;28mprint\u001b[39m(\u001b[38;5;124m\"\u001b[39m\u001b[38;5;124m\"\u001b[39m)\n",
      "File \u001b[0;32m/opt/conda/lib/python3.10/site-packages/keras/utils/traceback_utils.py:70\u001b[0m, in \u001b[0;36mfilter_traceback.<locals>.error_handler\u001b[0;34m(*args, **kwargs)\u001b[0m\n\u001b[1;32m     67\u001b[0m     filtered_tb \u001b[38;5;241m=\u001b[39m _process_traceback_frames(e\u001b[38;5;241m.\u001b[39m__traceback__)\n\u001b[1;32m     68\u001b[0m     \u001b[38;5;66;03m# To get the full stack trace, call:\u001b[39;00m\n\u001b[1;32m     69\u001b[0m     \u001b[38;5;66;03m# `tf.debugging.disable_traceback_filtering()`\u001b[39;00m\n\u001b[0;32m---> 70\u001b[0m     \u001b[38;5;28;01mraise\u001b[39;00m e\u001b[38;5;241m.\u001b[39mwith_traceback(filtered_tb) \u001b[38;5;28;01mfrom\u001b[39;00m \u001b[38;5;28;01mNone\u001b[39;00m\n\u001b[1;32m     71\u001b[0m \u001b[38;5;28;01mfinally\u001b[39;00m:\n\u001b[1;32m     72\u001b[0m     \u001b[38;5;28;01mdel\u001b[39;00m filtered_tb\n",
      "File \u001b[0;32m/opt/conda/lib/python3.10/site-packages/keras/backend.py:4334\u001b[0m, in \u001b[0;36mbatch_set_value\u001b[0;34m(tuples)\u001b[0m\n\u001b[1;32m   4330\u001b[0m placeholder_shape \u001b[38;5;241m=\u001b[39m tf\u001b[38;5;241m.\u001b[39mTensorShape([\u001b[38;5;28;01mNone\u001b[39;00m] \u001b[38;5;241m*\u001b[39m value\u001b[38;5;241m.\u001b[39mndim)\n\u001b[1;32m   4331\u001b[0m assign_placeholder \u001b[38;5;241m=\u001b[39m tf\u001b[38;5;241m.\u001b[39mcompat\u001b[38;5;241m.\u001b[39mv1\u001b[38;5;241m.\u001b[39mplaceholder(\n\u001b[1;32m   4332\u001b[0m     tf_dtype, shape\u001b[38;5;241m=\u001b[39mplaceholder_shape\n\u001b[1;32m   4333\u001b[0m )\n\u001b[0;32m-> 4334\u001b[0m assign_op \u001b[38;5;241m=\u001b[39m \u001b[43mx\u001b[49m\u001b[38;5;241;43m.\u001b[39;49m\u001b[43massign\u001b[49m\u001b[43m(\u001b[49m\u001b[43massign_placeholder\u001b[49m\u001b[43m)\u001b[49m\n\u001b[1;32m   4335\u001b[0m x\u001b[38;5;241m.\u001b[39m_assign_placeholder \u001b[38;5;241m=\u001b[39m assign_placeholder\n\u001b[1;32m   4336\u001b[0m x\u001b[38;5;241m.\u001b[39m_assign_op \u001b[38;5;241m=\u001b[39m assign_op\n",
      "\u001b[0;31mRuntimeError\u001b[0m: resource: Attempting to capture an EagerTensor without building a function."
     ]
    }
   ],
   "source": [
    "import os\n",
    "\n",
    "imdb_dir = '/home/jovyan/dsc650/data/external/imdb/aclImdb/'\n",
    "train_dir = os.path.join(imdb_dir, 'train')\n",
    "\n",
    "labels=[]\n",
    "texts=[]\n",
    "\n",
    "for label_type in ['neg', 'pos']:\n",
    "    dir_name = os.path.join(test_dir, label_type)\n",
    "    for fname in sorted(os.listdir(dir_name)):\n",
    "        if fname[-4:] == '.txt':\n",
    "            f = open(os.path.join(dir_name, fname), encoding=\"utf8\")\n",
    "            texts.append(f.read())\n",
    "            f.close()\n",
    "            if label_type == 'neg':\n",
    "                labels.append(0)\n",
    "            else:\n",
    "                labels.append(1)\n",
    "                \n",
    "sequence = tokenizer.texts_to_sequences(texts)\n",
    "x_test = pad_sequences(sequences, maxlen=maxlen)\n",
    "y_test = np.asarray(labels)\n",
    "\n",
    "model.load_weights(result_model_file)\n",
    "eval = model.evaluate(x_test, y_test)\n",
    "print(\"\")\n",
    "print(eval)\n",
    "print(\"Complete: --- %s seconds has passed ---\" % (time.time() - start_time))"
   ]
  },
  {
   "cell_type": "markdown",
   "id": "340a8fde-8c09-40bd-b013-9cc26e76514f",
   "metadata": {},
   "source": [
    "## Assignment 10-3"
   ]
  },
  {
   "cell_type": "code",
   "execution_count": 31,
   "id": "d077e196-35d2-4691-bb34-80429e776555",
   "metadata": {
    "tags": []
   },
   "outputs": [
    {
     "name": "stdout",
     "output_type": "stream",
     "text": [
      "WARNING:tensorflow:From /opt/conda/lib/python3.10/site-packages/tensorflow/python/compat/v2_compat.py:107: disable_resource_variables (from tensorflow.python.ops.variable_scope) is deprecated and will be removed in a future version.\n",
      "Instructions for updating:\n",
      "non-resource variables are not supported in the long term\n"
     ]
    }
   ],
   "source": [
    "import tensorflow.compat.v1 as tf\n",
    "tf.disable_v2_behavior()\n",
    "from keras.preprocessing.text import Tokenizer\n",
    "import pad_sequences\n",
    "import numpy as np\n",
    "import matplotlib.pyplot as plt\n",
    "from pathlib import Path\n",
    "from keras.models import Sequential\n",
    "from keras.layers import Embedding, Flatten, Dense\n",
    "import os\n",
    "from contextlib import redirect_stdout\n",
    "import time\n",
    "start_time = time.time()\n",
    "from keras.layers import LSTM\n",
    "# Needed the following as caused CUDA DNN errors\n",
    "#physical_devices = tf.config.list_physical_devices('GPU')\n",
    "#tf.config.experimental.set_memory_growth(physical_devices[0], True)\n",
    "\n",
    "from keras.datasets import imdb\n",
    "from keras.preprocessing import sequence"
   ]
  },
  {
   "cell_type": "code",
   "execution_count": 32,
   "id": "71b20f33-826c-44be-a505-42860bd7218e",
   "metadata": {
    "tags": []
   },
   "outputs": [],
   "source": [
    "imdb_dir = Path('/home/jovyan/dsc650/data/external/imdb/aclImdb/')\n",
    "test_dir = os.path.join(imdb_dir, 'test')\n",
    "train_dir = os.path.join(imdb_dir, 'train')\n",
    "\n",
    "results_dir = Path('results').joinpath('model_1')\n",
    "results_dir.mkdir(parents=True, exist_ok=True)"
   ]
  },
  {
   "cell_type": "code",
   "execution_count": 33,
   "id": "f88c2e4e-317c-4416-a3ce-8f8f5e7aae6f",
   "metadata": {
    "tags": []
   },
   "outputs": [],
   "source": [
    "max_features = 10000\n",
    "maxlen = 500\n",
    "batch_size = 32\n",
    "max_words = 1000\n",
    "training_samples = 200\n",
    "validation_samples = 10000"
   ]
  },
  {
   "cell_type": "code",
   "execution_count": 34,
   "id": "9a6328a6-b705-4b15-916f-58f7950f1137",
   "metadata": {
    "tags": []
   },
   "outputs": [],
   "source": [
    "import os\n",
    "\n",
    "imdb_dir = '/home/jovyan/dsc650/data/external/imdb/aclImdb/'\n",
    "train_dir = os.path.join(imdb_dir, 'train')\n",
    "\n",
    "labels = []\n",
    "texts = []\n",
    "\n",
    "for label_type in ['neg', 'pos']:\n",
    "    dir_name = os.path.join(test_dir, label_type)\n",
    "    for fname in sorted(os.listdir(dir_name)):\n",
    "        if fname[-4:] == '.txt':\n",
    "            f = open(os.path.join(dir_name, fname), encoding=\"utf8\")\n",
    "            texts.append(f.read())\n",
    "            f.close()\n",
    "            if label_type == 'neg':\n",
    "                labels.append(0)\n",
    "            else:\n",
    "                labels.append(1)"
   ]
  },
  {
   "cell_type": "code",
   "execution_count": 38,
   "id": "cca60430-03b3-4264-ba2c-bb69694775ea",
   "metadata": {
    "tags": []
   },
   "outputs": [],
   "source": [
    "from keras_preprocessing.sequence import pad_sequences"
   ]
  },
  {
   "cell_type": "code",
   "execution_count": 39,
   "id": "9ec51ffe-d278-43b8-b5d7-930ed0512ae3",
   "metadata": {
    "tags": []
   },
   "outputs": [
    {
     "name": "stdout",
     "output_type": "stream",
     "text": [
      "Loading data... \n",
      "Found 87393 unique tokens.\n",
      "Shape of data tensor: (25000, 500)\n",
      "Shape of label tensor: (25000,)\n"
     ]
    }
   ],
   "source": [
    "tokenizer = Tokenizer(num_words=max_words)\n",
    "tokenizer.fit_on_texts(texts)\n",
    "sequences = tokenizer.texts_to_sequences(texts)\n",
    "\n",
    "print('Loading data... ')\n",
    "\n",
    "word_index = tokenizer.word_index\n",
    "print('Found %s unique tokens.' % len(word_index))\n",
    "\n",
    "data = pad_sequences(sequences, maxlen=maxlen)\n",
    "labels = np.asarray(labels)\n",
    "print('Shape of data tensor:', data.shape)\n",
    "print('Shape of label tensor:', labels.shape)\n",
    "\n",
    "indices = np.arange(data.shape[0])\n",
    "np.random.shuffle(indices)\n",
    "data = data[indices]\n",
    "labels = labels[indices]"
   ]
  },
  {
   "cell_type": "code",
   "execution_count": 40,
   "id": "1767eac9-8c80-442e-b3b9-074f666d8c4b",
   "metadata": {},
   "outputs": [
    {
     "name": "stdout",
     "output_type": "stream",
     "text": [
      "input_train shape: (200, 500)\n",
      "input_test shape: (10000, 500)\n"
     ]
    }
   ],
   "source": [
    "#x_train\n",
    "input_train = data[:training_samples]\n",
    "#y_train\n",
    "y_train = labels[:training_samples]\n",
    "\n",
    "#x_val\n",
    "input_test = data[training_samples: training_samples + validation_samples]\n",
    "#y_val\n",
    "y_test = labels[training_samples: training_samples + validation_samples]\n",
    "\n",
    "print('input_train shape:', input_train.shape)\n",
    "print('input_test shape:', input_test.shape)"
   ]
  },
  {
   "cell_type": "code",
   "execution_count": 41,
   "id": "69ac3e16-9b68-4c86-9d44-84c8c047ca0f",
   "metadata": {
    "tags": []
   },
   "outputs": [
    {
     "name": "stdout",
     "output_type": "stream",
     "text": [
      "WARNING:tensorflow:From /opt/conda/lib/python3.10/site-packages/keras/initializers/initializers_v1.py:297: calling RandomUniform.__init__ (from tensorflow.python.ops.init_ops) with dtype is deprecated and will be removed in a future version.\n",
      "Instructions for updating:\n",
      "Call initializer instance with the dtype argument instead of passing it to the constructor\n",
      "Train on 200 samples, validate on 10000 samples\n",
      "Epoch 1/10\n"
     ]
    },
    {
     "name": "stderr",
     "output_type": "stream",
     "text": [
      "2023-05-21 03:19:25.183046: I tensorflow/compiler/mlir/mlir_graph_optimization_pass.cc:353] MLIR V1 optimization pass is not enabled\n",
      "2023-05-21 03:19:25.230102: W tensorflow/c/c_api.cc:300] Operation '{name:'training/RMSprop/momentum/Assign' id:666 op device:{requested: '', assigned: ''} def:{{{node training/RMSprop/momentum/Assign}} = AssignVariableOp[_has_manual_control_dependencies=true, dtype=DT_FLOAT, validate_shape=false](training/RMSprop/momentum, training/RMSprop/momentum/Initializer/initial_value)}}' was changed by setting attribute after it was run by a session. This mutation will have no effect, and will trigger an error in the future. Either don't modify nodes after running them or create a new session.\n"
     ]
    },
    {
     "name": "stdout",
     "output_type": "stream",
     "text": [
      "200/200 [==============================] - ETA: 0s - loss: 0.6931 - acc: 0.5000"
     ]
    },
    {
     "name": "stderr",
     "output_type": "stream",
     "text": [
      "/opt/conda/lib/python3.10/site-packages/keras/engine/training_v1.py:2335: UserWarning: `Model.state_updates` will be removed in a future version. This property should not be used in TensorFlow 2.0, as `updates` are applied automatically.\n",
      "  updates = self.state_updates\n",
      "2023-05-21 03:19:27.806061: W tensorflow/c/c_api.cc:300] Operation '{name:'loss/mul' id:257 op device:{requested: '', assigned: ''} def:{{{node loss/mul}} = Mul[T=DT_FLOAT, _has_manual_control_dependencies=true](loss/mul/x, loss/dense_2_loss/value)}}' was changed by setting attribute after it was run by a session. This mutation will have no effect, and will trigger an error in the future. Either don't modify nodes after running them or create a new session.\n"
     ]
    },
    {
     "name": "stdout",
     "output_type": "stream",
     "text": [
      "200/200 [==============================] - 34s 168ms/sample - loss: 0.6931 - acc: 0.5000 - val_loss: 0.6924 - val_acc: 0.5215\n",
      "Epoch 2/10\n",
      "200/200 [==============================] - 32s 162ms/sample - loss: 0.6874 - acc: 0.5850 - val_loss: 0.6910 - val_acc: 0.5133\n",
      "Epoch 3/10\n",
      "200/200 [==============================] - 33s 163ms/sample - loss: 0.6740 - acc: 0.5900 - val_loss: 0.7549 - val_acc: 0.5051\n",
      "Epoch 4/10\n",
      "200/200 [==============================] - 32s 161ms/sample - loss: 0.6323 - acc: 0.6200 - val_loss: 0.6758 - val_acc: 0.5489\n",
      "Epoch 5/10\n",
      "200/200 [==============================] - 32s 162ms/sample - loss: 0.6064 - acc: 0.7450 - val_loss: 0.6756 - val_acc: 0.5510\n",
      "Epoch 6/10\n",
      "200/200 [==============================] - 32s 162ms/sample - loss: 0.5112 - acc: 0.8050 - val_loss: 0.6522 - val_acc: 0.6463\n",
      "Epoch 7/10\n",
      "200/200 [==============================] - 33s 163ms/sample - loss: 0.5148 - acc: 0.9100 - val_loss: 0.6524 - val_acc: 0.6319\n",
      "Epoch 8/10\n",
      "200/200 [==============================] - 32s 161ms/sample - loss: 0.3948 - acc: 0.9400 - val_loss: 0.6780 - val_acc: 0.6361\n",
      "Epoch 9/10\n",
      "200/200 [==============================] - 32s 161ms/sample - loss: 0.3462 - acc: 0.9300 - val_loss: 0.6855 - val_acc: 0.6435\n",
      "Epoch 10/10\n",
      "200/200 [==============================] - 32s 161ms/sample - loss: 0.2878 - acc: 0.9600 - val_loss: 0.6733 - val_acc: 0.6461\n"
     ]
    }
   ],
   "source": [
    "model = Sequential()\n",
    "model.add(Embedding(max_features, 32))\n",
    "model.add(LSTM(32))\n",
    "model.add(Dense(1, activation='sigmoid'))\n",
    "model.compile(optimizer='rmsprop', loss='binary_crossentropy', metrics=['acc'])\n",
    "history=model.fit(input_train, y_train, epochs=10, batch_size=32, validation_data=(input_test, y_test))\n",
    "\n",
    "result_model_file = results_dir.joinpath('pre_trained_glove_model_LSTM.h5')\n",
    "model.save_weights(result_model_file)"
   ]
  },
  {
   "cell_type": "code",
   "execution_count": 42,
   "id": "e12fe522-ed4e-49b8-89ee-a6bbdb9088a5",
   "metadata": {
    "tags": []
   },
   "outputs": [],
   "source": [
    "# Save the summary to file\n",
    "summary_file = results_dir.joinpath('Assignment_10.3_ModelSummary.txt')\n",
    "with open(summary_file, 'w') as f:\n",
    "    with redirect_stdout(f):\n",
    "        model.summary()"
   ]
  },
  {
   "cell_type": "code",
   "execution_count": 43,
   "id": "16739bdd-1f26-46e3-be89-aca7caf31120",
   "metadata": {
    "tags": []
   },
   "outputs": [
    {
     "data": {
      "image/png": "[encoded data removed]",
      "text/plain": [
       "<Figure size 640x480 with 1 Axes>"
      ]
     },
     "metadata": {},
     "output_type": "display_data"
    },
    {
     "data": {
      "image/png": "[encoded data removed]",
      "text/plain": [
       "<Figure size 640x480 with 1 Axes>"
      ]
     },
     "metadata": {},
     "output_type": "display_data"
    }
   ],
   "source": [
    "# Place plot here\n",
    "acc = history.history['acc']\n",
    "val_acc = history.history['val_acc']\n",
    "loss = history.history['loss']\n",
    "val_loss = history.history['val_loss']\n",
    "\n",
    "epochs = range(1, len(acc) + 1)\n",
    "\n",
    "plt.plot(epochs, acc, 'bo', label='Training acc')\n",
    "plt.plot(epochs, val_acc, 'b', label='Validation acc')\n",
    "plt.title('Training and validation accuracy')\n",
    "plt.legend()\n",
    "plt.figure()\n",
    "plt.plot(epochs, loss, 'bo', label='Training loss')\n",
    "plt.plot(epochs, val_loss, 'b', label='Validation loss')\n",
    "plt.title('Training and validation loss')\n",
    "plt.legend()\n",
    "img_file = results_dir.joinpath('Assignment_10.3_Model Accuracy Validation.png')\n",
    "plt.savefig(img_file)\n",
    "plt.show()"
   ]
  },
  {
   "cell_type": "markdown",
   "id": "476e28f4-8885-4991-ab40-d274f0cec044",
   "metadata": {},
   "source": [
    "## Assignment 10-4"
   ]
  },
  {
   "cell_type": "code",
   "execution_count": 44,
   "id": "487aa91b-6592-4518-9aa2-243bc8acb14f",
   "metadata": {
    "tags": []
   },
   "outputs": [],
   "source": [
    "#1D Covnet"
   ]
  },
  {
   "cell_type": "code",
   "execution_count": 45,
   "id": "e29ed589-3724-48c2-b7ee-290d00bd12f6",
   "metadata": {
    "tags": []
   },
   "outputs": [],
   "source": [
    "import tensorflow.compat.v1 as tf\n",
    "import matplotlib.pyplot as plt\n",
    "tf.disable_v2_behavior()"
   ]
  },
  {
   "cell_type": "code",
   "execution_count": 50,
   "id": "fbab6478-f33b-4d65-b9ad-443058f0d05a",
   "metadata": {
    "tags": []
   },
   "outputs": [],
   "source": [
    "from keras.models import Sequential\n",
    "from keras import layers\n",
    "from keras_preprocessing.sequence import pad_sequences\n",
    "from keras.optimizers import RMSprop\n",
    "from keras.datasets import imdb\n",
    "from keras.preprocessing import sequence\n",
    "from contextlib import redirect_stdout\n",
    "from pathlib import Path\n",
    "import time\n",
    "start_time = time.time()"
   ]
  },
  {
   "cell_type": "code",
   "execution_count": 51,
   "id": "ea178a76-2b58-4746-8ebc-c90972a74b2c",
   "metadata": {
    "tags": []
   },
   "outputs": [],
   "source": [
    "results_dir = Path('results').joinpath('model_1')\n",
    "results_dir.mkdir(parents=True, exist_ok=True)"
   ]
  },
  {
   "cell_type": "code",
   "execution_count": 53,
   "id": "f161046b-5844-4169-8e5f-9e7f580e5042",
   "metadata": {
    "tags": []
   },
   "outputs": [
    {
     "name": "stdout",
     "output_type": "stream",
     "text": [
      "Loading data ...\n",
      "25000 train sequences\n",
      "25000 test sequences\n",
      "Pad sequences (samples x time)\n",
      "x_train shape: (25000, 500)\n",
      "x_test shape: (25000, 500)\n"
     ]
    }
   ],
   "source": [
    "max_features = 10000\n",
    "max_len = 500\n",
    "\n",
    "print('Loading data ...')\n",
    "\n",
    "(x_train, y_train), (x_test, y_test) = imdb.load_data(num_words=max_features)\n",
    "print(len(x_train), 'train sequences')\n",
    "print(len(x_test), 'test sequences')\n",
    "\n",
    "print('Pad sequences (samples x time)')\n",
    "x_train = pad_sequences(x_train, maxlen = max_len)\n",
    "x_test = pad_sequences(x_test, maxlen = max_len)\n",
    "print('x_train shape:', x_train.shape)\n",
    "print('x_test shape:', x_test.shape)"
   ]
  },
  {
   "cell_type": "code",
   "execution_count": 54,
   "id": "e5b14726-0dc1-4776-b526-934b1e4bbd10",
   "metadata": {
    "tags": []
   },
   "outputs": [
    {
     "name": "stdout",
     "output_type": "stream",
     "text": [
      "Model: \"sequential_2\"\n",
      "_________________________________________________________________\n",
      " Layer (type)                Output Shape              Param #   \n",
      "=================================================================\n",
      " embedding_2 (Embedding)     (None, 500, 128)          1280000   \n",
      "                                                                 \n",
      " conv1d (Conv1D)             (None, 494, 32)           28704     \n",
      "                                                                 \n",
      " max_pooling1d (MaxPooling1D  (None, 98, 32)           0         \n",
      " )                                                               \n",
      "                                                                 \n",
      " conv1d_1 (Conv1D)           (None, 92, 32)            7200      \n",
      "                                                                 \n",
      " global_max_pooling1d (Globa  (None, 32)               0         \n",
      " lMaxPooling1D)                                                  \n",
      "                                                                 \n",
      " dense_3 (Dense)             (None, 1)                 33        \n",
      "                                                                 \n",
      "=================================================================\n",
      "Total params: 1,315,937\n",
      "Trainable params: 1,315,937\n",
      "Non-trainable params: 0\n",
      "_________________________________________________________________\n"
     ]
    }
   ],
   "source": [
    "model = Sequential()\n",
    "model.add(layers.Embedding(max_features, 128, input_length=max_len))\n",
    "model.add(layers.Conv1D(32, 7, activation='relu'))\n",
    "model.add(layers.MaxPooling1D(5))\n",
    "model.add(layers.Conv1D(32, 7, activation='relu'))\n",
    "model.add(layers.GlobalMaxPooling1D())\n",
    "model.add(layers.Dense(1))\n",
    "model.summary()"
   ]
  },
  {
   "cell_type": "code",
   "execution_count": 55,
   "id": "68ee3432-c1c2-4f24-a2c1-f3914d72749c",
   "metadata": {
    "tags": []
   },
   "outputs": [
    {
     "name": "stderr",
     "output_type": "stream",
     "text": [
      "/opt/conda/lib/python3.10/site-packages/keras/optimizers/legacy/rmsprop.py:143: UserWarning: The `lr` argument is deprecated, use `learning_rate` instead.\n",
      "  super().__init__(name, **kwargs)\n"
     ]
    },
    {
     "name": "stdout",
     "output_type": "stream",
     "text": [
      "Train on 20000 samples, validate on 5000 samples\n",
      "Epoch 1/10\n"
     ]
    },
    {
     "name": "stderr",
     "output_type": "stream",
     "text": [
      "2023-05-21 03:28:47.887893: W tensorflow/c/c_api.cc:300] Operation '{name:'training_2/RMSprop/conv1d/kernel/rms/Assign' id:1246 op device:{requested: '', assigned: ''} def:{{{node training_2/RMSprop/conv1d/kernel/rms/Assign}} = AssignVariableOp[_has_manual_control_dependencies=true, dtype=DT_FLOAT, validate_shape=false](training_2/RMSprop/conv1d/kernel/rms, training_2/RMSprop/conv1d/kernel/rms/Initializer/zeros)}}' was changed by setting attribute after it was run by a session. This mutation will have no effect, and will trigger an error in the future. Either don't modify nodes after running them or create a new session.\n"
     ]
    },
    {
     "name": "stdout",
     "output_type": "stream",
     "text": [
      "19968/20000 [============================>.] - ETA: 0s - loss: 0.7133 - acc: 0.5351"
     ]
    },
    {
     "name": "stderr",
     "output_type": "stream",
     "text": [
      "2023-05-21 03:28:58.406197: W tensorflow/c/c_api.cc:300] Operation '{name:'loss_1/mul' id:1013 op device:{requested: '', assigned: ''} def:{{{node loss_1/mul}} = Mul[T=DT_FLOAT, _has_manual_control_dependencies=true](loss_1/mul/x, loss_1/dense_3_loss/value)}}' was changed by setting attribute after it was run by a session. This mutation will have no effect, and will trigger an error in the future. Either don't modify nodes after running them or create a new session.\n"
     ]
    },
    {
     "name": "stdout",
     "output_type": "stream",
     "text": [
      "20000/20000 [==============================] - 11s 545us/sample - loss: 0.7133 - acc: 0.5350 - val_loss: 0.6823 - val_acc: 0.5668\n",
      "Epoch 2/10\n",
      "20000/20000 [==============================] - 10s 516us/sample - loss: 0.6596 - acc: 0.6763 - val_loss: 0.6579 - val_acc: 0.6678\n",
      "Epoch 3/10\n",
      "20000/20000 [==============================] - 10s 520us/sample - loss: 0.6125 - acc: 0.7630 - val_loss: 0.6009 - val_acc: 0.7446\n",
      "Epoch 4/10\n",
      "20000/20000 [==============================] - 10s 516us/sample - loss: 0.5181 - acc: 0.8098 - val_loss: 0.4924 - val_acc: 0.8010\n",
      "Epoch 5/10\n",
      "20000/20000 [==============================] - 10s 514us/sample - loss: 0.4107 - acc: 0.8497 - val_loss: 0.4288 - val_acc: 0.8284\n",
      "Epoch 6/10\n",
      "20000/20000 [==============================] - 10s 519us/sample - loss: 0.3395 - acc: 0.8769 - val_loss: 0.4104 - val_acc: 0.8486\n",
      "Epoch 7/10\n",
      "20000/20000 [==============================] - 10s 509us/sample - loss: 0.2941 - acc: 0.8956 - val_loss: 0.4050 - val_acc: 0.8534\n",
      "Epoch 8/10\n",
      "20000/20000 [==============================] - 10s 514us/sample - loss: 0.2606 - acc: 0.9108 - val_loss: 0.4092 - val_acc: 0.8592\n",
      "Epoch 9/10\n",
      "20000/20000 [==============================] - 10s 513us/sample - loss: 0.2347 - acc: 0.9197 - val_loss: 0.4093 - val_acc: 0.8660\n",
      "Epoch 10/10\n",
      "20000/20000 [==============================] - 10s 512us/sample - loss: 0.2125 - acc: 0.9285 - val_loss: 0.4375 - val_acc: 0.8660\n"
     ]
    }
   ],
   "source": [
    "model.compile(optimizer=RMSprop(lr=1e-4), loss='binary_crossentropy', metrics=['acc'])\n",
    "history = model.fit(x_train, y_train, epochs=10, batch_size=128, validation_split=0.2)"
   ]
  },
  {
   "cell_type": "code",
   "execution_count": 56,
   "id": "6a6649bd-5115-42c9-b6f8-9140b625be57",
   "metadata": {
    "tags": []
   },
   "outputs": [],
   "source": [
    "# Save the summary to file\n",
    "summary_file = results_dir.joinpath('Assignment_10.4_ModelSummary.txt')\n",
    "with open(summary_file, 'w') as f:\n",
    "    with redirect_stdout(f):\n",
    "        model.summary()"
   ]
  },
  {
   "cell_type": "code",
   "execution_count": 57,
   "id": "4cd220de-aab1-4197-a6fd-f0d998356f9d",
   "metadata": {
    "tags": []
   },
   "outputs": [],
   "source": [
    "result_model_file = results_dir.joinpath('pre_trained_glove_model_1D_Convnet.h5')\n",
    "model.save_weights(result_model_file)"
   ]
  },
  {
   "cell_type": "code",
   "execution_count": 58,
   "id": "02b90a26-487d-4ec0-ad36-d2ca723ceb82",
   "metadata": {
    "tags": []
   },
   "outputs": [
    {
     "data": {
      "image/png": "[encoded data removed]",
      "text/plain": [
       "<Figure size 640x480 with 1 Axes>"
      ]
     },
     "metadata": {},
     "output_type": "display_data"
    },
    {
     "data": {
      "image/png": "[encoded data removed]",
      "text/plain": [
       "<Figure size 640x480 with 1 Axes>"
      ]
     },
     "metadata": {},
     "output_type": "display_data"
    }
   ],
   "source": [
    "# Place plot here\n",
    "acc = history.history['acc']\n",
    "val_acc = history.history['val_acc']\n",
    "loss = history.history['loss']\n",
    "val_loss = history.history['val_loss']\n",
    "\n",
    "epochs = range(1, len(acc) + 1)\n",
    "\n",
    "plt.plot(epochs, acc, 'bo', label='Training acc')\n",
    "plt.plot(epochs, val_acc, 'b', label='Validation acc')\n",
    "plt.title('Training and validation accuracy')\n",
    "plt.legend()\n",
    "plt.figure()\n",
    "plt.plot(epochs, loss, 'bo', label='Training loss')\n",
    "plt.plot(epochs, val_loss, 'b', label='Validation loss')\n",
    "plt.title('Training and validation loss')\n",
    "plt.legend()\n",
    "img_file = results_dir.joinpath('Assignment_10.4_Model Accuracy Validation.png')\n",
    "plt.savefig(img_file)\n",
    "plt.show()"
   ]
  },
  {
   "cell_type": "code",
   "execution_count": 59,
   "id": "872ab287-0bf6-4419-ab06-8a501f1a1f42",
   "metadata": {
    "tags": []
   },
   "outputs": [
    {
     "name": "stdout",
     "output_type": "stream",
     "text": [
      "\n",
      "[0.45278230883598325, 0.86232]\n"
     ]
    }
   ],
   "source": [
    "#save the model performance metrics and training and validation accuracy curves in the results/model_2 direc\n",
    "model.load_weights(result_model_file)\n",
    "eval = model.evaluate(x_test, y_test)\n",
    "print(\"\")\n",
    "print(eval)"
   ]
  },
  {
   "cell_type": "code",
   "execution_count": null,
   "id": "c6a19a0b-042e-4f44-8519-729c44eeab43",
   "metadata": {},
   "outputs": [],
   "source": []
  }
 ],
 "metadata": {
  "kernelspec": {
   "display_name": "Python 3 (ipykernel)",
   "language": "python",
   "name": "python3"
  },
  "language_info": {
   "codemirror_mode": {
    "name": "ipython",
    "version": 3
   },
   "file_extension": ".py",
   "mimetype": "text/x-python",
   "name": "python",
   "nbconvert_exporter": "python",
   "pygments_lexer": "ipython3",
   "version": "3.10.10"
  }
 },
 "nbformat": 4,
 "nbformat_minor": 5
}
