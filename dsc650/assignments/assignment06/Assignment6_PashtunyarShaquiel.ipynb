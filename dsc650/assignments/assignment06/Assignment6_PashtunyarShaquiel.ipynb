{
 "cells": [
  {
   "cell_type": "code",
   "execution_count": 2,
   "id": "7220d094-8624-48f5-9f66-57533279726b",
   "metadata": {},
   "outputs": [],
   "source": [
    "###Assignment 6 \n",
    "#DSC650  4/23/2023\n",
    "#Shaquiel Pashtunyar"
   ]
  },
  {
   "cell_type": "markdown",
   "id": "c077df91-36fc-4800-823d-0a3e182d2d5e",
   "metadata": {},
   "source": [
    "### Assignment 6"
   ]
  },
  {
   "cell_type": "markdown",
   "id": "79563b5e-45f0-4cd8-9ac5-edc0e2647891",
   "metadata": {},
   "source": [
    "### Using section 5.1 in Deep Learning with Python as a guide (listing 5.3 in particular), create a ConvNet model that classifies images in the MNIST digit dataset. Save the model, predictions, metrics, and validation plots in the dsc650/assignments/assignment06/results directory. If you are using JupyterHub, you can include those plots in your Jupyter notebook."
   ]
  },
  {
   "cell_type": "code",
   "execution_count": 5,
   "id": "5efe7980-ff88-43f5-88a6-c4b7b861b6ff",
   "metadata": {},
   "outputs": [],
   "source": [
    "#Importing "
   ]
  },
  {
   "cell_type": "code",
   "execution_count": 49,
   "id": "c6788e39-2865-4e36-ae17-7b18f6fc9a75",
   "metadata": {},
   "outputs": [],
   "source": [
    "from keras import layers\n",
    "from keras import models\n",
    "from keras.datasets import mnist\n",
    "from keras.utils import to_categorical\n",
    "import numpy as np\n",
    "import matplotlib.pyplot as plt\n",
    "import pandas as pd\n",
    "import os\n",
    "import pandas as pd"
   ]
  },
  {
   "cell_type": "code",
   "execution_count": 12,
   "id": "1a0a8a06-f29b-4687-895e-d51264ec1391",
   "metadata": {},
   "outputs": [],
   "source": [
    "#Minst imported"
   ]
  },
  {
   "cell_type": "code",
   "execution_count": 13,
   "id": "a48280bd-98e0-4acf-893b-2d6b5530be45",
   "metadata": {},
   "outputs": [
    {
     "name": "stdout",
     "output_type": "stream",
     "text": [
      "Model: \"sequential_1\"\n",
      "_________________________________________________________________\n",
      " Layer (type)                Output Shape              Param #   \n",
      "=================================================================\n",
      " conv2d_3 (Conv2D)           (None, 26, 26, 32)        320       \n",
      "                                                                 \n",
      " max_pooling2d_2 (MaxPooling  (None, 13, 13, 32)       0         \n",
      " 2D)                                                             \n",
      "                                                                 \n",
      " conv2d_4 (Conv2D)           (None, 11, 11, 64)        18496     \n",
      "                                                                 \n",
      " max_pooling2d_3 (MaxPooling  (None, 5, 5, 64)         0         \n",
      " 2D)                                                             \n",
      "                                                                 \n",
      " conv2d_5 (Conv2D)           (None, 3, 3, 64)          36928     \n",
      "                                                                 \n",
      " flatten_1 (Flatten)         (None, 576)               0         \n",
      "                                                                 \n",
      " dense_2 (Dense)             (None, 64)                36928     \n",
      "                                                                 \n",
      " dense_3 (Dense)             (None, 10)                650       \n",
      "                                                                 \n",
      "=================================================================\n",
      "Total params: 93,322\n",
      "Trainable params: 93,322\n",
      "Non-trainable params: 0\n",
      "_________________________________________________________________\n"
     ]
    }
   ],
   "source": [
    "# calling a model\n",
    "model = models.Sequential()\n",
    "model.add(layers.Conv2D(32, (3,3), activation='relu', input_shape=(28, 28, 1)))\n",
    "model.add(layers.MaxPooling2D((2, 2)))\n",
    "model.add(layers.Conv2D(64, (3,3), activation='relu'))\n",
    "model.add(layers.MaxPooling2D((2,2)))\n",
    "model.add(layers.Conv2D(64, (3,3), activation='relu'))\n",
    "\n",
    "# add a classifier on top of Convnet\n",
    "model.add(layers.Flatten())\n",
    "model.add(layers.Dense(64, activation='relu'))\n",
    "model.add(layers.Dense(10, activation = 'softmax'))\n",
    "\n",
    "# view summary\n",
    "model.summary()"
   ]
  },
  {
   "cell_type": "code",
   "execution_count": 14,
   "id": "bee7027f-ff93-4e58-a948-d1b41fcfa546",
   "metadata": {},
   "outputs": [],
   "source": [
    "#Splitting the data into training and target"
   ]
  },
  {
   "cell_type": "code",
   "execution_count": 15,
   "id": "54878e88-0e5f-4444-8e90-4faefb5a0816",
   "metadata": {},
   "outputs": [],
   "source": [
    "(train_images, train_labels), (test_images, test_labels) = mnist.load_data()\n",
    "\n",
    "train_images = train_images.reshape((60000, 28, 28, 1))\n",
    "train_images = train_images.astype('float32') / 255\n",
    "\n",
    "test_images = test_images.reshape((10000, 28, 28, 1))\n",
    "test_images = test_images.astype('float32') / 255\n",
    "\n",
    "train_labels = to_categorical(train_labels)\n",
    "test_labels = to_categorical(test_labels)"
   ]
  },
  {
   "cell_type": "code",
   "execution_count": 16,
   "id": "b380d9ba-8f4d-4b55-9d38-9de8d2e03084",
   "metadata": {},
   "outputs": [
    {
     "data": {
      "text/plain": [
       "((50000, 28, 28, 1), (10000, 28, 28, 1))"
      ]
     },
     "execution_count": 16,
     "metadata": {},
     "output_type": "execute_result"
    }
   ],
   "source": [
    "# shuffle training set\n",
    "for _ in range(5):\n",
    "    indexes = np.random.permutation(len(train_images))\n",
    "    \n",
    "train_images = train_images[indexes]\n",
    "train_labels = train_labels[indexes]\n",
    "\n",
    "# put 10,000 aside for validation\n",
    "val_images = train_images[:10000,:]\n",
    "val_labels = train_labels[:10000,:]\n",
    "\n",
    "# keep the rest in training set\n",
    "train_images2 = train_images[10000:,:]\n",
    "train_labels2 = train_labels[10000:,:]\n",
    "\n",
    "# view their shape\n",
    "train_images2.shape, val_images.shape"
   ]
  },
  {
   "cell_type": "code",
   "execution_count": 18,
   "id": "91aca32a-5140-49b7-be40-de0fa0777eb3",
   "metadata": {},
   "outputs": [
    {
     "name": "stdout",
     "output_type": "stream",
     "text": [
      "Epoch 1/5\n",
      "782/782 [==============================] - 18s 22ms/step - loss: 0.1986 - accuracy: 0.9387 - val_loss: 0.1153 - val_accuracy: 0.9655\n",
      "Epoch 2/5\n",
      "782/782 [==============================] - 17s 22ms/step - loss: 0.0510 - accuracy: 0.9840 - val_loss: 0.0584 - val_accuracy: 0.9830\n",
      "Epoch 3/5\n",
      "782/782 [==============================] - 20s 26ms/step - loss: 0.0356 - accuracy: 0.9891 - val_loss: 0.0485 - val_accuracy: 0.9852\n",
      "Epoch 4/5\n",
      "782/782 [==============================] - 19s 24ms/step - loss: 0.0268 - accuracy: 0.9920 - val_loss: 0.0352 - val_accuracy: 0.9888\n",
      "Epoch 5/5\n",
      "782/782 [==============================] - 21s 26ms/step - loss: 0.0209 - accuracy: 0.9935 - val_loss: 0.0405 - val_accuracy: 0.9877\n"
     ]
    }
   ],
   "source": [
    "#model compiling\n",
    "\n",
    "model.compile(optimizer='rmsprop',\n",
    "              loss='categorical_crossentropy',\n",
    "              metrics=['accuracy'])\n",
    "\n",
    "history = model.fit(train_images2, train_labels2, epochs=5, batch_size=64,\n",
    "                    validation_data = (val_images, val_labels))"
   ]
  },
  {
   "cell_type": "code",
   "execution_count": 20,
   "id": "cdc68c3e-0f7f-44ef-b5a2-a864ae22a2f9",
   "metadata": {},
   "outputs": [
    {
     "data": {
      "text/plain": [
       "'C:\\\\Users\\\\spashtunyar\\\\Documents\\\\School\\\\dsc650\\\\dsc650\\\\assignments\\\\assignment06'"
      ]
     },
     "execution_count": 20,
     "metadata": {},
     "output_type": "execute_result"
    }
   ],
   "source": [
    "#file path needed for download\n",
    "os.getcwd()"
   ]
  },
  {
   "cell_type": "code",
   "execution_count": 37,
   "id": "cc6b0c5e-d8e0-4c3c-b20f-aa6bf9d1399c",
   "metadata": {},
   "outputs": [
    {
     "data": {
      "image/png": "[encoded data removed]",
      "text/plain": [
       "<Figure size 640x480 with 1 Axes>"
      ]
     },
     "metadata": {},
     "output_type": "display_data"
    }
   ],
   "source": [
    "train_loss = history.history['loss']\n",
    "val_loss = history.history['val_loss']\n",
    "\n",
    "epochs = range(1, len(history.history['loss']) + 1)\n",
    "\n",
    "plt.plot(epochs, train_loss, 'bo', label = 'Training Loss')\n",
    "plt.plot(epochs, val_loss, 'b', label = 'Validation Loss')\n",
    "plt.title('Training & Validation Losses')\n",
    "plt.xlabel('Epochs')\n",
    "plt.ylabel('Loss')\n",
    "plt.legend()\n",
    "plt.savefig(r'C:\\Users\\spashtunyar\\Documents\\School\\dsc650\\dsc650\\assignments\\assignment06\\assignment06PNG')\n",
    "plt.show()"
   ]
  },
  {
   "cell_type": "code",
   "execution_count": 36,
   "id": "e9d4cbed-1607-4365-8f2f-ff3664d04b41",
   "metadata": {},
   "outputs": [
    {
     "data": {
      "image/png": "[encoded data removed]",
      "text/plain": [
       "<Figure size 640x480 with 1 Axes>"
      ]
     },
     "metadata": {},
     "output_type": "display_data"
    }
   ],
   "source": [
    "#Accuracy\n",
    "train_acc = history.history['accuracy']\n",
    "val_acc = history.history['val_accuracy']\n",
    "\n",
    "epcohs = range(1, len(history.history['accuracy']) + 1)\n",
    "\n",
    "plt.plot(epochs, train_acc, 'bo', label = 'Training Accuracy')\n",
    "plt.plot(epochs, val_acc, 'b', label = 'Validation Accuracy')\n",
    "plt.title('Training & Validation Accuracy')\n",
    "plt.xlabel('Epochs')\n",
    "plt.ylabel('Accuracy')\n",
    "plt.legend()\n",
    "plt.savefig(r'C:\\Users\\spashtunyar\\Documents\\School\\dsc650\\dsc650\\assignments\\assignment06\\accuracyPNG')\n",
    "plt.show()"
   ]
  },
  {
   "cell_type": "code",
   "execution_count": 39,
   "id": "a43f0f76-c448-4865-bbba-f76c684950aa",
   "metadata": {},
   "outputs": [
    {
     "name": "stdout",
     "output_type": "stream",
     "text": [
      "Epoch 1/3\n",
      "938/938 [==============================] - 25s 25ms/step - loss: 0.0116 - accuracy: 0.9965\n",
      "Epoch 2/3\n",
      "938/938 [==============================] - 25s 26ms/step - loss: 0.0092 - accuracy: 0.9973\n",
      "Epoch 3/3\n",
      "938/938 [==============================] - 25s 26ms/step - loss: 0.0076 - accuracy: 0.9980\n",
      "313/313 [==============================] - 2s 5ms/step - loss: 0.0435 - accuracy: 0.9911\n"
     ]
    }
   ],
   "source": [
    "# retrain model & evaluate for 3 epochs\n",
    "model.compile(optimizer='rmsprop',\n",
    "              loss='categorical_crossentropy',\n",
    "              metrics=['accuracy'])\n",
    "\n",
    "history = model.fit(train_images, train_labels, epochs = 3, batch_size = 64)\n",
    "results = model.evaluate(test_images, test_labels)"
   ]
  },
  {
   "cell_type": "code",
   "execution_count": 40,
   "id": "398965a3-7682-49a5-b79b-3ab34a597656",
   "metadata": {},
   "outputs": [
    {
     "data": {
      "text/plain": [
       "[0.043479882180690765, 0.991100013256073]"
      ]
     },
     "execution_count": 40,
     "metadata": {},
     "output_type": "execute_result"
    }
   ],
   "source": [
    "results"
   ]
  },
  {
   "cell_type": "code",
   "execution_count": 42,
   "id": "ba88b332-9b30-45e9-8fbd-e75077f7a175",
   "metadata": {},
   "outputs": [
    {
     "data": {
      "text/plain": [
       "{'loss': [0.011624673381447792, 0.009243286214768887, 0.007589162793010473],\n",
       " 'accuracy': [0.9964666962623596, 0.9973499774932861, 0.9979833364486694]}"
      ]
     },
     "execution_count": 42,
     "metadata": {},
     "output_type": "execute_result"
    }
   ],
   "source": [
    "#Loss and accuracy\n",
    "history.history"
   ]
  },
  {
   "cell_type": "code",
   "execution_count": 43,
   "id": "dddfbb7b-1216-4bba-a1f7-3175129663e9",
   "metadata": {},
   "outputs": [],
   "source": [
    "model.save(r'C:\\Users\\spashtunyar\\Documents\\School\\dsc650\\dsc650\\assignments\\assignment06\\6-1-model.h5')"
   ]
  },
  {
   "cell_type": "code",
   "execution_count": 44,
   "id": "0c21b7b2-9597-49c8-ae08-6d9a388fbb6e",
   "metadata": {},
   "outputs": [
    {
     "name": "stdout",
     "output_type": "stream",
     "text": [
      "313/313 [==============================] - 2s 5ms/step\n"
     ]
    }
   ],
   "source": [
    "prediction_results = model.predict(test_images)"
   ]
  },
  {
   "cell_type": "code",
   "execution_count": 45,
   "id": "295ba391-db73-4e07-920b-5211c9bdc24e",
   "metadata": {},
   "outputs": [
    {
     "data": {
      "text/plain": [
       "array([[8.4818215e-13, 1.4013637e-12, 7.9418064e-13, ..., 1.0000000e+00,\n",
       "        7.1448720e-14, 8.8554679e-13],\n",
       "       [1.0670370e-12, 3.0961589e-13, 1.0000000e+00, ..., 6.2001581e-20,\n",
       "        6.3564592e-16, 4.9383507e-21],\n",
       "       [3.2855095e-15, 1.0000000e+00, 1.3975719e-14, ..., 2.2907494e-10,\n",
       "        2.7650401e-12, 3.6749812e-15],\n",
       "       ...,\n",
       "       [1.0209669e-26, 6.3787823e-16, 4.9082052e-22, ..., 2.7280451e-16,\n",
       "        3.5719909e-18, 1.6070612e-15],\n",
       "       [2.5390151e-14, 3.2301263e-19, 7.8710421e-22, ..., 3.7945682e-18,\n",
       "        2.5481697e-07, 1.1942707e-15],\n",
       "       [2.1948858e-13, 5.9157579e-20, 4.1198930e-18, ..., 8.3996679e-24,\n",
       "        2.9717780e-16, 5.2695157e-21]], dtype=float32)"
      ]
     },
     "execution_count": 45,
     "metadata": {},
     "output_type": "execute_result"
    }
   ],
   "source": [
    "prediction_results"
   ]
  },
  {
   "cell_type": "code",
   "execution_count": 46,
   "id": "a04789af-db8a-409c-84bf-9a06576f219f",
   "metadata": {},
   "outputs": [],
   "source": [
    "with open(r'C:\\Users\\spashtunyar\\Documents\\School\\dsc650\\dsc650\\assignments\\assignment06\\6-1-metrics.txt', 'w') as f:\n",
    "    f.write('Training Loss: {}'.format(str(history.history['loss'])))\n",
    "    f.write('\\nTraining Accuracy: {}'.format(str(history.history['accuracy'])))\n",
    "    f.write('\\nTest Loss: {}'.format(results[0]))\n",
    "    f.write('\\nTest Accuracy: {}'.format(results[1]))"
   ]
  },
  {
   "cell_type": "code",
   "execution_count": 47,
   "id": "4f5c7f74-2c62-4cf5-b3c4-c1aad8a73130",
   "metadata": {},
   "outputs": [],
   "source": [
    "preds = pd.DataFrame(prediction_results,\n",
    "                     columns = ['0','1','2','3','4','5','6','7','8','9'])\n",
    "\n",
    "preds.to_csv(r'C:\\Users\\spashtunyar\\Documents\\School\\dsc650\\dsc650\\assignments\\assignment06\\6-1-predicitons.csv', index = False)"
   ]
  },
  {
   "cell_type": "markdown",
   "id": "d55609cf-f13e-43c8-bed0-773d66f71288",
   "metadata": {},
   "source": [
    "# Assignment part 2"
   ]
  },
  {
   "cell_type": "code",
   "execution_count": 48,
   "id": "c0fdb20a-a37e-44a7-b468-462b4e298300",
   "metadata": {},
   "outputs": [],
   "source": [
    "#importing cifar10\n",
    "from keras.datasets import cifar10"
   ]
  },
  {
   "cell_type": "code",
   "execution_count": 50,
   "id": "93bf5c7c-0576-44bf-906c-59a1af82497e",
   "metadata": {},
   "outputs": [
    {
     "name": "stdout",
     "output_type": "stream",
     "text": [
      "Downloading data from https://www.cs.toronto.edu/~kriz/cifar-10-python.tar.gz\n",
      "170498071/170498071 [==============================] - 8s 0us/step\n"
     ]
    }
   ],
   "source": [
    "#Splitting data\n",
    "(x_train, y_train), (x_test, y_test) = cifar10.load_data()"
   ]
  },
  {
   "cell_type": "code",
   "execution_count": 51,
   "id": "6c306a7e-339e-4308-8ab7-24d5d461bbde",
   "metadata": {},
   "outputs": [],
   "source": [
    "# preprocess data\n",
    "x_train = x_train.astype('float32') / 255\n",
    "x_test = x_test.astype('float32') / 255\n",
    "y_train = to_categorical(y_train)\n",
    "y_test = to_categorical(y_test)\n",
    "\n",
    "# put 10,000 aside for validation\n",
    "x_val = x_train[-10000:]\n",
    "y_val = y_train[-10000:]\n",
    "x_train = x_train[:-10000]\n",
    "y_train = y_train[:-10000]"
   ]
  },
  {
   "cell_type": "code",
   "execution_count": 52,
   "id": "dffd4fe6-8da0-4e67-827a-d8274ef12316",
   "metadata": {},
   "outputs": [
    {
     "name": "stdout",
     "output_type": "stream",
     "text": [
      "Model: \"sequential_2\"\n",
      "_________________________________________________________________\n",
      " Layer (type)                Output Shape              Param #   \n",
      "=================================================================\n",
      " conv2d_6 (Conv2D)           (None, 30, 30, 32)        896       \n",
      "                                                                 \n",
      " max_pooling2d_4 (MaxPooling  (None, 15, 15, 32)       0         \n",
      " 2D)                                                             \n",
      "                                                                 \n",
      " conv2d_7 (Conv2D)           (None, 13, 13, 64)        18496     \n",
      "                                                                 \n",
      " max_pooling2d_5 (MaxPooling  (None, 6, 6, 64)         0         \n",
      " 2D)                                                             \n",
      "                                                                 \n",
      " conv2d_8 (Conv2D)           (None, 4, 4, 64)          36928     \n",
      "                                                                 \n",
      " max_pooling2d_6 (MaxPooling  (None, 2, 2, 64)         0         \n",
      " 2D)                                                             \n",
      "                                                                 \n",
      " flatten_2 (Flatten)         (None, 256)               0         \n",
      "                                                                 \n",
      " dense_4 (Dense)             (None, 64)                16448     \n",
      "                                                                 \n",
      " dense_5 (Dense)             (None, 10)                650       \n",
      "                                                                 \n",
      "=================================================================\n",
      "Total params: 73,418\n",
      "Trainable params: 73,418\n",
      "Non-trainable params: 0\n",
      "_________________________________________________________________\n"
     ]
    }
   ],
   "source": [
    "# Create the model\n",
    "model = models.Sequential()\n",
    "model.add(layers.Conv2D(32, (3,3), activation='relu', input_shape=(32, 32, 3)))\n",
    "model.add(layers.MaxPooling2D((2, 2)))\n",
    "model.add(layers.Conv2D(64, (3,3), activation='relu'))\n",
    "model.add(layers.MaxPooling2D((2,2)))\n",
    "model.add(layers.Conv2D(64, (3,3), activation='relu'))\n",
    "model.add(layers.MaxPooling2D((2,2)))\n",
    "model.add(layers.Flatten())\n",
    "model.add(layers.Dense(64, activation='relu'))\n",
    "model.add(layers.Dense(10, activation = 'softmax'))\n",
    "\n",
    "# view summary\n",
    "model.summary()"
   ]
  },
  {
   "cell_type": "code",
   "execution_count": 54,
   "id": "4b4fa44d-1f93-4104-925f-a16fa39ff14b",
   "metadata": {},
   "outputs": [],
   "source": [
    "model.compile(optimizer='rmsprop',\n",
    "              loss='categorical_crossentropy',\n",
    "              metrics=['accuracy'])\n",
    "\n",
    "history = model.fit(x_train, y_train, epochs=100,\n",
    "                    validation_data = (x_val, y_val), verbose=0)"
   ]
  },
  {
   "cell_type": "code",
   "execution_count": 55,
   "id": "9dd5b58e-153f-4a39-a63a-066877b8ac09",
   "metadata": {},
   "outputs": [
    {
     "data": {
      "image/png": "[encoded data removed]",
      "text/plain": [
       "<Figure size 640x480 with 1 Axes>"
      ]
     },
     "metadata": {},
     "output_type": "display_data"
    }
   ],
   "source": [
    "train_loss = history.history['loss']\n",
    "val_loss = history.history['val_loss']\n",
    "\n",
    "epochs = range(1, len(history.history['loss']) + 1)\n",
    "\n",
    "plt.plot(epochs, train_loss, 'bo', label = 'Training Loss')\n",
    "plt.plot(epochs, val_loss, 'b', label = 'Validation Loss')\n",
    "plt.title('Training & Validation Losses')\n",
    "plt.xlabel('Epochs')\n",
    "plt.ylabel('Loss')\n",
    "plt.legend()\n",
    "plt.savefig(r'C:\\Users\\spashtunyar\\Documents\\School\\dsc650\\dsc650\\assignments\\assignment06\\6-2A-Loss.png')\n",
    "plt.show()"
   ]
  },
  {
   "cell_type": "code",
   "execution_count": 56,
   "id": "ac5bf046-3826-403f-a501-007fec1e6d28",
   "metadata": {},
   "outputs": [
    {
     "data": {
      "image/png": "[encoded data removed]",
      "text/plain": [
       "<Figure size 640x480 with 1 Axes>"
      ]
     },
     "metadata": {},
     "output_type": "display_data"
    }
   ],
   "source": [
    "train_acc = history.history['accuracy']\n",
    "val_acc = history.history['val_accuracy']\n",
    "epcohs = range(1, len(history.history['accuracy']) + 1)\n",
    "plt.plot(epochs, train_acc, 'bo', label = 'Training Accuracy')\n",
    "plt.plot(epochs, val_acc, 'b', label = 'Validation Accuracy')\n",
    "plt.title('Training & Validation Accuracy')\n",
    "plt.xlabel('Epochs')\n",
    "plt.ylabel('Accuracy')\n",
    "plt.legend()\n",
    "plt.savefig(r'C:\\Users\\spashtunyar\\Documents\\School\\dsc650\\dsc650\\assignments\\assignment06\\6-2A-Accuracy')\n",
    "plt.show()"
   ]
  },
  {
   "cell_type": "code",
   "execution_count": 57,
   "id": "10ae92de-c2a3-494f-b10f-e8a45277c719",
   "metadata": {},
   "outputs": [
    {
     "name": "stdout",
     "output_type": "stream",
     "text": [
      "Epoch 1/10\n",
      "1563/1563 [==============================] - 39s 24ms/step - loss: 0.8312 - accuracy: 0.7800\n",
      "Epoch 2/10\n",
      "1563/1563 [==============================] - 37s 24ms/step - loss: 0.7477 - accuracy: 0.7891\n",
      "Epoch 3/10\n",
      "1563/1563 [==============================] - 40s 26ms/step - loss: 0.7026 - accuracy: 0.7936\n",
      "Epoch 4/10\n",
      "1563/1563 [==============================] - 47s 30ms/step - loss: 0.6806 - accuracy: 0.7970\n",
      "Epoch 5/10\n",
      "1563/1563 [==============================] - 42s 27ms/step - loss: 0.6500 - accuracy: 0.8025\n",
      "Epoch 6/10\n",
      "1563/1563 [==============================] - 44s 28ms/step - loss: 0.6398 - accuracy: 0.8050\n",
      "Epoch 7/10\n",
      "1563/1563 [==============================] - 41s 26ms/step - loss: 0.6412 - accuracy: 0.8010\n",
      "Epoch 8/10\n",
      "1563/1563 [==============================] - 39s 25ms/step - loss: 0.6225 - accuracy: 0.8078\n",
      "Epoch 9/10\n",
      "1563/1563 [==============================] - 39s 25ms/step - loss: 0.6123 - accuracy: 0.8088\n",
      "Epoch 10/10\n",
      "1563/1563 [==============================] - 37s 24ms/step - loss: 0.6165 - accuracy: 0.8118\n",
      "313/313 [==============================] - 3s 8ms/step - loss: 1.2173 - accuracy: 0.6453\n"
     ]
    }
   ],
   "source": [
    "# retrain model & evaluate\n",
    "(x_train, y_train), (x_test, y_test) = cifar10.load_data()\n",
    "\n",
    "# preprocess data\n",
    "x_train = x_train.astype('float32') / 255\n",
    "x_test = x_test.astype('float32') / 255\n",
    "y_train = to_categorical(y_train)\n",
    "y_test = to_categorical(y_test)\n",
    "\n",
    "model.compile(optimizer='rmsprop',\n",
    "              loss='categorical_crossentropy',\n",
    "              metrics=['accuracy'])\n",
    "\n",
    "history = model.fit(x_train, y_train, epochs=10)\n",
    "results = model.evaluate(x_test, y_test)"
   ]
  },
  {
   "cell_type": "code",
   "execution_count": 59,
   "id": "c700e139-9305-43d2-9b98-57e96ec00115",
   "metadata": {},
   "outputs": [],
   "source": [
    "model.save(r'C:\\Users\\spashtunyar\\Documents\\School\\dsc650\\dsc650\\assignments\\assignment06\\6-2A-model.h5')"
   ]
  },
  {
   "cell_type": "code",
   "execution_count": 60,
   "id": "01fb528f-f8e2-442e-b6d3-db3ad3aa0d9e",
   "metadata": {},
   "outputs": [
    {
     "name": "stdout",
     "output_type": "stream",
     "text": [
      "313/313 [==============================] - 3s 8ms/step\n"
     ]
    }
   ],
   "source": [
    "prediction_results = model.predict(x_test)"
   ]
  },
  {
   "cell_type": "code",
   "execution_count": 61,
   "id": "cc9dca83-9f9a-4d9c-8cf9-1d0a7fac0745",
   "metadata": {},
   "outputs": [
    {
     "data": {
      "text/plain": [
       "array([[4.21460310e-04, 1.52559573e-04, 2.89890799e-03, ...,\n",
       "        1.02881808e-04, 2.96914834e-03, 1.25233841e-04],\n",
       "       [6.28627837e-04, 3.70398047e-04, 3.56287654e-16, ...,\n",
       "        1.48146096e-14, 9.99000967e-01, 1.30031585e-08],\n",
       "       [5.94272576e-02, 1.90348569e-02, 2.61096051e-04, ...,\n",
       "        8.35009923e-05, 9.08882439e-01, 8.88891425e-03],\n",
       "       ...,\n",
       "       [3.65121878e-07, 4.80077063e-08, 3.01973009e-03, ...,\n",
       "        1.10382631e-01, 4.64879292e-07, 1.73881290e-05],\n",
       "       [9.73920669e-06, 3.36405193e-03, 1.74554007e-03, ...,\n",
       "        7.68269529e-04, 3.40715123e-09, 3.31380056e-06],\n",
       "       [4.94112008e-11, 1.59739350e-18, 7.89580952e-08, ...,\n",
       "        9.99655366e-01, 5.83787319e-19, 4.79023188e-18]], dtype=float32)"
      ]
     },
     "execution_count": 61,
     "metadata": {},
     "output_type": "execute_result"
    }
   ],
   "source": [
    "prediction_results"
   ]
  },
  {
   "cell_type": "code",
   "execution_count": 62,
   "id": "f740dadd-fe56-4538-882d-22555307a123",
   "metadata": {},
   "outputs": [],
   "source": [
    "#Writing results in text file\n",
    "with open(r'C:\\Users\\spashtunyar\\Documents\\School\\dsc650\\dsc650\\assignments\\assignment06\\6-2A-metrics.txt', 'w') as f:\n",
    "    f.write('Training Loss: {}'.format(str(history.history['loss'])))\n",
    "    f.write('\\nTraining Accuracy: {}'.format(str(history.history['accuracy'])))\n",
    "    f.write('\\nTest Loss: {}'.format(results[0]))\n",
    "    f.write('\\nTest Accuracy: {}'.format(results[1]))"
   ]
  },
  {
   "cell_type": "code",
   "execution_count": 63,
   "id": "5448a47c-b706-46b6-8e46-8f523bb6a843",
   "metadata": {},
   "outputs": [],
   "source": [
    "preds = pd.DataFrame(prediction_results,\n",
    "                     columns = ['0','1','2','3','4','5','6','7','8','9'])\n",
    "\n",
    "preds.to_csv(r'C:\\Users\\spashtunyar\\Documents\\School\\dsc650\\dsc650\\assignments\\assignment06\\6-2A-predicitons.csv', index = False)"
   ]
  },
  {
   "cell_type": "code",
   "execution_count": 1,
   "id": "adfc207a-0875-491e-b731-d8a809fd0b06",
   "metadata": {},
   "outputs": [],
   "source": [
    "#Part 2 B"
   ]
  },
  {
   "cell_type": "code",
   "execution_count": 2,
   "id": "16e881cc-4179-4929-a77a-24f0ccb069f1",
   "metadata": {},
   "outputs": [],
   "source": [
    "from keras.datasets import cifar10\n",
    "from keras.utils import to_categorical\n",
    "from keras.preprocessing.image import ImageDataGenerator\n",
    "import pandas as pd\n",
    "import matplotlib.pyplot as plt"
   ]
  },
  {
   "cell_type": "code",
   "execution_count": 3,
   "id": "a374ea02-ad13-4548-8eb0-138dde572e74",
   "metadata": {},
   "outputs": [],
   "source": [
    "(x_train, y_train), (x_test, y_test) = cifar10.load_data()"
   ]
  },
  {
   "cell_type": "code",
   "execution_count": 5,
   "id": "b8eb8ee0-31a8-4939-83c7-de0bc24ef003",
   "metadata": {},
   "outputs": [
    {
     "data": {
      "text/plain": [
       "((50000, 32, 32, 3), (50000, 1))"
      ]
     },
     "execution_count": 5,
     "metadata": {},
     "output_type": "execute_result"
    }
   ],
   "source": [
    "x_train.shape, y_train.shape"
   ]
  },
  {
   "cell_type": "code",
   "execution_count": 6,
   "id": "1d62b073-57b5-459f-a193-907b4857c489",
   "metadata": {},
   "outputs": [],
   "source": [
    "# preprocess data\n",
    "x_train = x_train.astype('float32')\n",
    "x_test = x_test.astype('float32')\n",
    "y_train = to_categorical(y_train)\n",
    "y_test = to_categorical(y_test)\n",
    "\n",
    "# put 10,000 aside for validation\n",
    "x_val = x_train[-10000:]\n",
    "y_val = y_train[-10000:]\n",
    "x_train2 = x_train[:-10000]\n",
    "y_train2 = y_train[:-10000]"
   ]
  },
  {
   "cell_type": "code",
   "execution_count": 7,
   "id": "12414962-347d-425f-88b3-bda1264d1ecc",
   "metadata": {},
   "outputs": [],
   "source": [
    "train_datagen = ImageDataGenerator(rescale=1./255,\n",
    "                                   rotation_range=40,\n",
    "                                   width_shift_range=0.2,\n",
    "                                   height_shift_range=0.2,\n",
    "                                   shear_range=0.2,\n",
    "                                   zoom_range=0.2,\n",
    "                                   horizontal_flip=True)\n",
    "\n",
    "test_datagen = ImageDataGenerator(rescale=1./255)\n",
    "\n",
    "train_generator = train_datagen.flow(x_train2, y_train2, batch_size=32)\n",
    "\n",
    "validation_generator = train_datagen.flow(x_val, y_val, batch_size=32)"
   ]
  },
  {
   "cell_type": "code",
   "execution_count": 8,
   "id": "670d4db3-42b9-4e1f-9ca9-7185df514f7d",
   "metadata": {},
   "outputs": [],
   "source": [
    "from keras import models\n",
    "from keras import layers"
   ]
  },
  {
   "cell_type": "code",
   "execution_count": 9,
   "id": "6a9d148b-5b88-4f5d-bf49-135b75a6af24",
   "metadata": {},
   "outputs": [
    {
     "name": "stdout",
     "output_type": "stream",
     "text": [
      "Model: \"sequential\"\n",
      "_________________________________________________________________\n",
      " Layer (type)                Output Shape              Param #   \n",
      "=================================================================\n",
      " conv2d (Conv2D)             (None, 30, 30, 32)        896       \n",
      "                                                                 \n",
      " max_pooling2d (MaxPooling2D  (None, 15, 15, 32)       0         \n",
      " )                                                               \n",
      "                                                                 \n",
      " conv2d_1 (Conv2D)           (None, 13, 13, 64)        18496     \n",
      "                                                                 \n",
      " max_pooling2d_1 (MaxPooling  (None, 6, 6, 64)         0         \n",
      " 2D)                                                             \n",
      "                                                                 \n",
      " conv2d_2 (Conv2D)           (None, 4, 4, 64)          36928     \n",
      "                                                                 \n",
      " max_pooling2d_2 (MaxPooling  (None, 2, 2, 64)         0         \n",
      " 2D)                                                             \n",
      "                                                                 \n",
      " flatten (Flatten)           (None, 256)               0         \n",
      "                                                                 \n",
      " dropout (Dropout)           (None, 256)               0         \n",
      "                                                                 \n",
      " dense (Dense)               (None, 64)                16448     \n",
      "                                                                 \n",
      " dense_1 (Dense)             (None, 10)                650       \n",
      "                                                                 \n",
      "=================================================================\n",
      "Total params: 73,418\n",
      "Trainable params: 73,418\n",
      "Non-trainable params: 0\n",
      "_________________________________________________________________\n"
     ]
    }
   ],
   "source": [
    "# instantiate the model\n",
    "# add dropout layer\n",
    "model = models.Sequential()\n",
    "model.add(layers.Conv2D(32, (3,3), activation='relu', input_shape=(32, 32, 3)))\n",
    "model.add(layers.MaxPooling2D((2, 2)))\n",
    "model.add(layers.Conv2D(64, (3,3), activation='relu'))\n",
    "model.add(layers.MaxPooling2D((2,2)))\n",
    "model.add(layers.Conv2D(64, (3,3), activation='relu'))\n",
    "model.add(layers.MaxPooling2D((2,2)))\n",
    "model.add(layers.Flatten())\n",
    "model.add(layers.Dropout(0.5))\n",
    "model.add(layers.Dense(64, activation='relu'))\n",
    "model.add(layers.Dense(10, activation = 'softmax'))\n",
    "\n",
    "# view summary\n",
    "model.summary()"
   ]
  },
  {
   "cell_type": "code",
   "execution_count": 11,
   "id": "35890998-52a3-4bf2-a466-7361d1ca1ba4",
   "metadata": {},
   "outputs": [],
   "source": [
    "from keras import optimizers"
   ]
  },
  {
   "cell_type": "code",
   "execution_count": 12,
   "id": "36a4be29-b0b4-485b-b985-244a03356b1f",
   "metadata": {},
   "outputs": [
    {
     "name": "stderr",
     "output_type": "stream",
     "text": [
      "C:\\Users\\spashtunyar\\Anaconda3\\lib\\site-packages\\keras\\optimizers\\optimizer_v2\\rmsprop.py:140: UserWarning: The `lr` argument is deprecated, use `learning_rate` instead.\n",
      "  super().__init__(name, **kwargs)\n"
     ]
    }
   ],
   "source": [
    "model.compile(optimizer=optimizers.RMSprop(lr=1e-4),\n",
    "              loss='categorical_crossentropy',\n",
    "              metrics=['accuracy'])"
   ]
  },
  {
   "cell_type": "code",
   "execution_count": 13,
   "id": "d4d1868e-df87-43af-9578-bf2e7134d1cb",
   "metadata": {},
   "outputs": [
    {
     "name": "stderr",
     "output_type": "stream",
     "text": [
      "C:\\Users\\spashtunyar\\AppData\\Local\\Temp\\ipykernel_17548\\7325378.py:1: UserWarning: `Model.fit_generator` is deprecated and will be removed in a future version. Please use `Model.fit`, which supports generators.\n",
      "  history = model.fit_generator(train_generator,\n"
     ]
    },
    {
     "name": "stdout",
     "output_type": "stream",
     "text": [
      "Epoch 1/30\n",
      "1250/1250 [==============================] - 120s 94ms/step - loss: 2.1608 - accuracy: 0.1845 - val_loss: 2.0044 - val_accuracy: 0.2605\n",
      "Epoch 2/30\n",
      "1250/1250 [==============================] - 93s 74ms/step - loss: 1.9819 - accuracy: 0.2599 - val_loss: 1.9174 - val_accuracy: 0.2897\n",
      "Epoch 3/30\n",
      "1250/1250 [==============================] - 68s 54ms/step - loss: 1.9184 - accuracy: 0.2846 - val_loss: 1.8656 - val_accuracy: 0.3120\n",
      "Epoch 4/30\n",
      "1250/1250 [==============================] - 65s 52ms/step - loss: 1.8616 - accuracy: 0.3105 - val_loss: 1.8000 - val_accuracy: 0.3407\n",
      "Epoch 5/30\n",
      "1250/1250 [==============================] - 57s 45ms/step - loss: 1.8219 - accuracy: 0.3250 - val_loss: 1.7632 - val_accuracy: 0.3502\n",
      "Epoch 6/30\n",
      "1250/1250 [==============================] - 52s 42ms/step - loss: 1.7886 - accuracy: 0.3350 - val_loss: 1.7230 - val_accuracy: 0.3763\n",
      "Epoch 7/30\n",
      "1250/1250 [==============================] - 51s 41ms/step - loss: 1.7531 - accuracy: 0.3530 - val_loss: 1.6938 - val_accuracy: 0.3790\n",
      "Epoch 8/30\n",
      "1250/1250 [==============================] - 54s 43ms/step - loss: 1.7335 - accuracy: 0.3632 - val_loss: 1.6988 - val_accuracy: 0.3836\n",
      "Epoch 9/30\n",
      "1250/1250 [==============================] - 52s 41ms/step - loss: 1.7138 - accuracy: 0.3702 - val_loss: 1.6602 - val_accuracy: 0.4011\n",
      "Epoch 10/30\n",
      "1250/1250 [==============================] - 51s 41ms/step - loss: 1.6899 - accuracy: 0.3823 - val_loss: 1.6678 - val_accuracy: 0.3956\n",
      "Epoch 11/30\n",
      "1250/1250 [==============================] - 50s 40ms/step - loss: 1.6726 - accuracy: 0.3854 - val_loss: 1.6334 - val_accuracy: 0.4088\n",
      "Epoch 12/30\n",
      "1250/1250 [==============================] - 51s 40ms/step - loss: 1.6576 - accuracy: 0.3959 - val_loss: 1.6215 - val_accuracy: 0.4082\n",
      "Epoch 13/30\n",
      "1250/1250 [==============================] - 51s 40ms/step - loss: 1.6406 - accuracy: 0.3982 - val_loss: 1.5945 - val_accuracy: 0.4242\n",
      "Epoch 14/30\n",
      "1250/1250 [==============================] - 51s 41ms/step - loss: 1.6312 - accuracy: 0.4073 - val_loss: 1.5811 - val_accuracy: 0.4315\n",
      "Epoch 15/30\n",
      "1250/1250 [==============================] - 50s 40ms/step - loss: 1.6145 - accuracy: 0.4147 - val_loss: 1.5450 - val_accuracy: 0.4426\n",
      "Epoch 16/30\n",
      "1250/1250 [==============================] - 51s 40ms/step - loss: 1.6048 - accuracy: 0.4162 - val_loss: 1.5401 - val_accuracy: 0.4425\n",
      "Epoch 17/30\n",
      "1250/1250 [==============================] - 50s 40ms/step - loss: 1.5919 - accuracy: 0.4244 - val_loss: 1.5398 - val_accuracy: 0.4463\n",
      "Epoch 18/30\n",
      "1250/1250 [==============================] - 51s 41ms/step - loss: 1.5847 - accuracy: 0.4245 - val_loss: 1.5134 - val_accuracy: 0.4678\n",
      "Epoch 19/30\n",
      "1250/1250 [==============================] - 50s 40ms/step - loss: 1.5737 - accuracy: 0.4310 - val_loss: 1.5199 - val_accuracy: 0.4492\n",
      "Epoch 20/30\n",
      "1250/1250 [==============================] - 50s 40ms/step - loss: 1.5555 - accuracy: 0.4404 - val_loss: 1.5258 - val_accuracy: 0.4523\n",
      "Epoch 21/30\n",
      "1250/1250 [==============================] - 52s 42ms/step - loss: 1.5516 - accuracy: 0.4408 - val_loss: 1.4739 - val_accuracy: 0.4740\n",
      "Epoch 22/30\n",
      "1250/1250 [==============================] - 51s 41ms/step - loss: 1.5387 - accuracy: 0.4451 - val_loss: 1.4708 - val_accuracy: 0.4822\n",
      "Epoch 23/30\n",
      "1250/1250 [==============================] - 50s 40ms/step - loss: 1.5315 - accuracy: 0.4492 - val_loss: 1.4761 - val_accuracy: 0.4722\n",
      "Epoch 24/30\n",
      "1250/1250 [==============================] - 51s 41ms/step - loss: 1.5206 - accuracy: 0.4529 - val_loss: 1.4786 - val_accuracy: 0.4655\n",
      "Epoch 25/30\n",
      "1250/1250 [==============================] - 50s 40ms/step - loss: 1.5118 - accuracy: 0.4539 - val_loss: 1.4450 - val_accuracy: 0.4864\n",
      "Epoch 26/30\n",
      "1250/1250 [==============================] - 52s 41ms/step - loss: 1.5075 - accuracy: 0.4549 - val_loss: 1.4584 - val_accuracy: 0.4829\n",
      "Epoch 27/30\n",
      "1250/1250 [==============================] - 52s 41ms/step - loss: 1.5004 - accuracy: 0.4611 - val_loss: 1.4404 - val_accuracy: 0.4853\n",
      "Epoch 28/30\n",
      "1250/1250 [==============================] - 51s 41ms/step - loss: 1.4937 - accuracy: 0.4640 - val_loss: 1.4226 - val_accuracy: 0.4954\n",
      "Epoch 29/30\n",
      "1250/1250 [==============================] - 50s 40ms/step - loss: 1.4840 - accuracy: 0.4648 - val_loss: 1.4246 - val_accuracy: 0.4959\n",
      "Epoch 30/30\n",
      "1250/1250 [==============================] - 51s 41ms/step - loss: 1.4802 - accuracy: 0.4709 - val_loss: 1.4152 - val_accuracy: 0.4915\n"
     ]
    }
   ],
   "source": [
    "history = model.fit_generator(train_generator,\n",
    "                              steps_per_epoch=len(x_train2) / 32,\n",
    "                              epochs = 30,\n",
    "                              validation_data=validation_generator,\n",
    "                              validation_steps=len(x_val) / 32)"
   ]
  },
  {
   "cell_type": "code",
   "execution_count": 16,
   "id": "b99933f8-b7b9-418f-ac35-92aa887761bb",
   "metadata": {},
   "outputs": [
    {
     "data": {
      "image/png": "[encoded data removed]",
      "text/plain": [
       "<Figure size 640x480 with 1 Axes>"
      ]
     },
     "metadata": {},
     "output_type": "display_data"
    }
   ],
   "source": [
    "train_loss = history.history['loss']\n",
    "val_loss = history.history['val_loss']\n",
    "\n",
    "epochs = range(1, len(history.history['loss']) + 1)\n",
    "\n",
    "plt.plot(epochs, train_loss, 'bo', label = 'Training Loss')\n",
    "plt.plot(epochs, val_loss, 'b', label = 'Validation Loss')\n",
    "plt.title('Training & Validation Losses')\n",
    "plt.xlabel('Epochs')\n",
    "plt.ylabel('Loss')\n",
    "plt.legend()\n",
    "plt.savefig(r'C:\\Users\\spashtunyar\\Documents\\School\\dsc650\\dsc650\\assignments\\assignment06\\results\\6-2B-Loss.png')\n",
    "plt.show()"
   ]
  },
  {
   "cell_type": "code",
   "execution_count": 17,
   "id": "07001075-6d32-45b5-abad-4bc6f146454c",
   "metadata": {},
   "outputs": [
    {
     "data": {
      "image/png": "[encoded data removed]",
      "text/plain": [
       "<Figure size 640x480 with 1 Axes>"
      ]
     },
     "metadata": {},
     "output_type": "display_data"
    }
   ],
   "source": [
    "train_acc = history.history['accuracy']\n",
    "val_acc = history.history['val_accuracy']\n",
    "\n",
    "epcohs = range(1, len(history.history['accuracy']) + 1)\n",
    "\n",
    "plt.plot(epochs, train_acc, 'bo', label = 'Training Accuracy')\n",
    "plt.plot(epochs, val_acc, 'b', label = 'Validation Accuracy')\n",
    "plt.title('Training & Validation Accuracy')\n",
    "plt.xlabel('Epochs')\n",
    "plt.ylabel('Accuracy')\n",
    "plt.legend()\n",
    "plt.savefig(r'C:\\Users\\spashtunyar\\Documents\\School\\dsc650\\dsc650\\assignments\\assignment06\\results\\6-2B-Accuracy')\n",
    "plt.show()"
   ]
  },
  {
   "cell_type": "code",
   "execution_count": 18,
   "id": "d314d275-3212-4eb3-bb9f-c5786c1307fa",
   "metadata": {},
   "outputs": [
    {
     "name": "stdout",
     "output_type": "stream",
     "text": [
      "Epoch 1/16\n"
     ]
    },
    {
     "name": "stderr",
     "output_type": "stream",
     "text": [
      "C:\\Users\\spashtunyar\\AppData\\Local\\Temp\\ipykernel_17548\\740027706.py:8: UserWarning: `Model.fit_generator` is deprecated and will be removed in a future version. Please use `Model.fit`, which supports generators.\n",
      "  history = model.fit_generator(train_generator,\n"
     ]
    },
    {
     "name": "stdout",
     "output_type": "stream",
     "text": [
      "1562/1562 [==============================] - 40s 25ms/step - loss: 1.4771 - accuracy: 0.4714\n",
      "Epoch 2/16\n",
      "1562/1562 [==============================] - 44s 28ms/step - loss: 1.4708 - accuracy: 0.4739\n",
      "Epoch 3/16\n",
      "1562/1562 [==============================] - 47s 30ms/step - loss: 1.4596 - accuracy: 0.4778\n",
      "Epoch 4/16\n",
      "1562/1562 [==============================] - 47s 30ms/step - loss: 1.4533 - accuracy: 0.4809\n",
      "Epoch 5/16\n",
      "1562/1562 [==============================] - 48s 31ms/step - loss: 1.4405 - accuracy: 0.4825\n",
      "Epoch 6/16\n",
      "1562/1562 [==============================] - 51s 33ms/step - loss: 1.4372 - accuracy: 0.4871\n",
      "Epoch 7/16\n",
      "1562/1562 [==============================] - 54s 34ms/step - loss: 1.4341 - accuracy: 0.4861\n",
      "Epoch 8/16\n",
      "1562/1562 [==============================] - 54s 35ms/step - loss: 1.4223 - accuracy: 0.4940\n",
      "Epoch 9/16\n",
      "1562/1562 [==============================] - 55s 35ms/step - loss: 1.4236 - accuracy: 0.4905\n",
      "Epoch 10/16\n",
      "1562/1562 [==============================] - 55s 35ms/step - loss: 1.4146 - accuracy: 0.4976\n",
      "Epoch 11/16\n",
      "1562/1562 [==============================] - 55s 35ms/step - loss: 1.4116 - accuracy: 0.4969\n",
      "Epoch 12/16\n",
      "1562/1562 [==============================] - 57s 36ms/step - loss: 1.4000 - accuracy: 0.4995\n",
      "Epoch 13/16\n",
      "1562/1562 [==============================] - 55s 35ms/step - loss: 1.4008 - accuracy: 0.5003\n",
      "Epoch 14/16\n",
      "1562/1562 [==============================] - 59s 38ms/step - loss: 1.3937 - accuracy: 0.5051\n",
      "Epoch 15/16\n",
      "1562/1562 [==============================] - 88s 56ms/step - loss: 1.3886 - accuracy: 0.5054\n",
      "Epoch 16/16\n",
      "1562/1562 [==============================] - 61s 39ms/step - loss: 1.3816 - accuracy: 0.5086\n",
      "313/313 [==============================] - 3s 9ms/step - loss: 216.5171 - accuracy: 0.3698\n"
     ]
    }
   ],
   "source": [
    "# retrain model & evaluate\n",
    "train_generator = train_datagen.flow(x_train, y_train, batch_size=32)\n",
    "\n",
    "model.compile(optimizer=optimizers.RMSprop(lr=1e-4),\n",
    "              loss='categorical_crossentropy',\n",
    "              metrics=['accuracy'])\n",
    "\n",
    "history = model.fit_generator(train_generator,\n",
    "                              steps_per_epoch=len(x_train) / 32,\n",
    "                              epochs = 16)\n",
    "\n",
    "results = model.evaluate(x_test, y_test)"
   ]
  },
  {
   "cell_type": "code",
   "execution_count": 19,
   "id": "87e1bfa6-a767-4b3f-92bf-cbcd838470af",
   "metadata": {},
   "outputs": [],
   "source": [
    "model.save(r'C:\\Users\\spashtunyar\\Documents\\School\\dsc650\\dsc650\\assignments\\assignment06\\results\\6-2B_model.h5')"
   ]
  },
  {
   "cell_type": "code",
   "execution_count": 20,
   "id": "2af2bd30-bbc6-431b-b2d9-d63b74d65af7",
   "metadata": {},
   "outputs": [
    {
     "name": "stdout",
     "output_type": "stream",
     "text": [
      "313/313 [==============================] - 3s 9ms/step\n"
     ]
    }
   ],
   "source": [
    "prediction_results = model.predict(x_test)"
   ]
  },
  {
   "cell_type": "code",
   "execution_count": 21,
   "id": "36990ccc-292a-47f0-9c5d-9e0479436e57",
   "metadata": {},
   "outputs": [
    {
     "data": {
      "text/plain": [
       "array([[9.0042595e-13, 0.0000000e+00, 0.0000000e+00, ..., 0.0000000e+00,\n",
       "        1.0000000e+00, 0.0000000e+00],\n",
       "       [0.0000000e+00, 1.0000000e+00, 0.0000000e+00, ..., 0.0000000e+00,\n",
       "        0.0000000e+00, 0.0000000e+00],\n",
       "       [0.0000000e+00, 1.0000000e+00, 0.0000000e+00, ..., 0.0000000e+00,\n",
       "        0.0000000e+00, 1.8758386e-21],\n",
       "       ...,\n",
       "       [0.0000000e+00, 0.0000000e+00, 0.0000000e+00, ..., 0.0000000e+00,\n",
       "        0.0000000e+00, 0.0000000e+00],\n",
       "       [1.2673316e-34, 1.0000000e+00, 0.0000000e+00, ..., 0.0000000e+00,\n",
       "        0.0000000e+00, 0.0000000e+00],\n",
       "       [0.0000000e+00, 0.0000000e+00, 0.0000000e+00, ..., 1.0000000e+00,\n",
       "        0.0000000e+00, 0.0000000e+00]], dtype=float32)"
      ]
     },
     "execution_count": 21,
     "metadata": {},
     "output_type": "execute_result"
    }
   ],
   "source": [
    "prediction_results"
   ]
  },
  {
   "cell_type": "code",
   "execution_count": 22,
   "id": "2d121763-3d64-4ff6-9dfa-f9e63145d27f",
   "metadata": {},
   "outputs": [],
   "source": [
    "with open(r'C:\\Users\\spashtunyar\\Documents\\School\\dsc650\\dsc650\\assignments\\assignment06\\results\\6-2B-metrics.txt', 'w') as f:\n",
    "    f.write('Training Loss: {}'.format(str(history.history['loss'])))\n",
    "    f.write('\\nTraining Accuracy: {}'.format(str(history.history['accuracy'])))\n",
    "    f.write('\\nTest Loss: {}'.format(results[0]))\n",
    "    f.write('\\nTest Accuracy: {}'.format(results[1]))"
   ]
  },
  {
   "cell_type": "code",
   "execution_count": 23,
   "id": "c6e12413-54f3-41f0-96ec-e4c7ab82c30a",
   "metadata": {},
   "outputs": [],
   "source": [
    "preds = pd.DataFrame(prediction_results,\n",
    "                     columns = ['0','1','2','3','4','5','6','7','8','9'])\n",
    "\n",
    "preds.to_csv(r'C:\\Users\\spashtunyar\\Documents\\School\\dsc650\\dsc650\\assignments\\assignment06\\results\\6-2B-predicitons.csv', index = False)"
   ]
  },
  {
   "cell_type": "markdown",
   "id": "4166c30c-2f83-44a6-821b-afb8a4f128f0",
   "metadata": {},
   "source": [
    "# Part 3"
   ]
  },
  {
   "cell_type": "code",
   "execution_count": 24,
   "id": "9d51c60e-960f-4331-ba45-350ccbe09e63",
   "metadata": {},
   "outputs": [
    {
     "name": "stdout",
     "output_type": "stream",
     "text": [
      "Collecting opencv-python\n",
      "  Downloading opencv_python-4.7.0.72-cp37-abi3-win_amd64.whl (38.2 MB)\n",
      "     --------------------------------------- 38.2/38.2 MB 23.4 MB/s eta 0:00:00\n",
      "Requirement already satisfied: numpy>=1.17.3 in c:\\users\\spashtunyar\\anaconda3\\lib\\site-packages (from opencv-python) (1.23.5)\n",
      "Installing collected packages: opencv-python\n",
      "Successfully installed opencv-python-4.7.0.72\n"
     ]
    }
   ],
   "source": [
    "!pip install opencv-python"
   ]
  },
  {
   "cell_type": "code",
   "execution_count": 47,
   "id": "c1e74bba-8fe8-49f2-b750-d3ea142c76d4",
   "metadata": {},
   "outputs": [],
   "source": [
    "from tensorflow.keras.applications.resnet50 import ResNet50\n",
    "from tensorflow.keras.preprocessing import image\n",
    "from tensorflow.keras.applications.resnet50 import preprocess_input, decode_predictions\n",
    "import numpy as np\n",
    "import os, cv2\n",
    "import matplotlib.pyplot as plt"
   ]
  },
  {
   "cell_type": "code",
   "execution_count": 48,
   "id": "ba234bc8-32cd-47de-a692-7ccac21e77a7",
   "metadata": {},
   "outputs": [],
   "source": [
    "# Load Model\n",
    "model = ResNet50(weights = 'imagenet')"
   ]
  },
  {
   "cell_type": "code",
   "execution_count": 49,
   "id": "b1290c5b-fba7-4408-83cc-b2746de98f79",
   "metadata": {},
   "outputs": [],
   "source": [
    "img_path = r'C:\\Users\\spashtunyar\\Documents\\School\\dsc650\\dsc650\\assignments\\assignment06\\results'"
   ]
  },
  {
   "cell_type": "code",
   "execution_count": 50,
   "id": "836a7914-f772-4d4b-bb0d-03dc9e88a083",
   "metadata": {},
   "outputs": [],
   "source": [
    "images = os.listdir(img_path)"
   ]
  },
  {
   "cell_type": "code",
   "execution_count": 51,
   "id": "2770b6b9-a2f2-481d-a44c-55720b32e84a",
   "metadata": {},
   "outputs": [
    {
     "name": "stdout",
     "output_type": "stream",
     "text": [
      "6-1-metrics.txt\n",
      "6-1-model.h5\n",
      "6-1-predicitons.csv\n",
      "6-2A-Accuracy.png\n",
      "6-2A-Loss.png\n",
      "6-2A-metrics.txt\n",
      "6-2A-model.h5\n",
      "6-2A-predicitons.csv\n",
      "6-2B-Accuracy.png\n",
      "6-2B-Loss.png\n",
      "6-2B-metrics.txt\n",
      "6-2B-predicitons.csv\n",
      "6-2B_model.h5\n",
      "accuracyPNG.png\n",
      "assignment06PNG.png\n",
      "image.txt\n"
     ]
    }
   ],
   "source": [
    "# Get the filename for each image\n",
    "for i, name in enumerate(images):\n",
    "    print(name)"
   ]
  },
  {
   "cell_type": "code",
   "execution_count": 54,
   "id": "021122c0-5446-48ad-bfef-40bc22319c33",
   "metadata": {},
   "outputs": [
    {
     "ename": "error",
     "evalue": "OpenCV(4.7.0) D:\\a\\opencv-python\\opencv-python\\opencv\\modules\\imgproc\\src\\resize.cpp:4062: error: (-215:Assertion failed) !ssize.empty() in function 'cv::resize'\n",
     "output_type": "error",
     "traceback": [
      "\u001b[1;31m---------------------------------------------------------------------------\u001b[0m",
      "\u001b[1;31merror\u001b[0m                                     Traceback (most recent call last)",
      "Cell \u001b[1;32mIn[54], line 6\u001b[0m\n\u001b[0;32m      4\u001b[0m \u001b[38;5;28;01mif\u001b[39;00m name \u001b[38;5;241m!=\u001b[39m \u001b[38;5;124m'\u001b[39m\u001b[38;5;124m.ipynb_checkpoints\u001b[39m\u001b[38;5;124m'\u001b[39m:\n\u001b[0;32m      5\u001b[0m     img \u001b[38;5;241m=\u001b[39m cv2\u001b[38;5;241m.\u001b[39mimread(img_path \u001b[38;5;241m+\u001b[39m \u001b[38;5;124m'\u001b[39m\u001b[38;5;124m/\u001b[39m\u001b[38;5;124m'\u001b[39m \u001b[38;5;241m+\u001b[39m name)\n\u001b[1;32m----> 6\u001b[0m     img \u001b[38;5;241m=\u001b[39m \u001b[43mcv2\u001b[49m\u001b[38;5;241;43m.\u001b[39;49m\u001b[43mresize\u001b[49m\u001b[43m(\u001b[49m\u001b[43mimg\u001b[49m\u001b[43m,\u001b[49m\u001b[43m \u001b[49m\u001b[43m(\u001b[49m\u001b[38;5;241;43m224\u001b[39;49m\u001b[43m,\u001b[49m\u001b[38;5;241;43m224\u001b[39;49m\u001b[43m)\u001b[49m\u001b[43m)\u001b[49m\n\u001b[0;32m      7\u001b[0m     x \u001b[38;5;241m=\u001b[39m image\u001b[38;5;241m.\u001b[39mimg_to_array(img)\n\u001b[0;32m      8\u001b[0m     x \u001b[38;5;241m=\u001b[39m np\u001b[38;5;241m.\u001b[39mexpand_dims(x, axis\u001b[38;5;241m=\u001b[39m\u001b[38;5;241m0\u001b[39m)\n",
      "\u001b[1;31merror\u001b[0m: OpenCV(4.7.0) D:\\a\\opencv-python\\opencv-python\\opencv\\modules\\imgproc\\src\\resize.cpp:4062: error: (-215:Assertion failed) !ssize.empty() in function 'cv::resize'\n"
     ]
    }
   ],
   "source": [
    "# Write the predictions into a file\n",
    "for i,name in enumerate(images):\n",
    "    \n",
    "    if name != '.ipynb_checkpoints':\n",
    "        img = cv2.imread(img_path + '/' + name)\n",
    "        img = cv2.resize(img, (224,224))\n",
    "        x = image.img_to_array(img)\n",
    "        x = np.expand_dims(x, axis=0)\n",
    "        x = preprocess_input(x)\n",
    "        \n",
    "        preds = model.predict(x)\n",
    "        \n",
    "        decpr = name, decode_predictions(preds, top=3)[0]\n",
    "        \n",
    "        print(decpr)\n",
    "\n",
    "        with open(r'C:\\Users\\spashtunyar\\Documents\\School\\dsc650\\dsc650\\assignments\\assignment06\\results\\6-3-predictions.txt', 'w') as f:\n",
    "            f.write(decpr[0])\n",
    "    else:\n",
    "        pass"
   ]
  },
  {
   "cell_type": "code",
   "execution_count": 55,
   "id": "d57d01b3-bed6-42bf-9ad9-1ab1635866c6",
   "metadata": {},
   "outputs": [],
   "source": [
    "#unsure here"
   ]
  },
  {
   "cell_type": "code",
   "execution_count": null,
   "id": "adc101f6-c03d-4c6a-8a85-17ba7a466670",
   "metadata": {},
   "outputs": [],
   "source": []
  }
 ],
 "metadata": {
  "kernelspec": {
   "display_name": "Python 3 (ipykernel)",
   "language": "python",
   "name": "python3"
  },
  "language_info": {
   "codemirror_mode": {
    "name": "ipython",
    "version": 3
   },
   "file_extension": ".py",
   "mimetype": "text/x-python",
   "name": "python",
   "nbconvert_exporter": "python",
   "pygments_lexer": "ipython3",
   "version": "3.9.16"
  }
 },
 "nbformat": 4,
 "nbformat_minor": 5
}
